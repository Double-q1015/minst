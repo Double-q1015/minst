{
 "cells": [
  {
   "cell_type": "markdown",
   "metadata": {},
   "source": [
    "## 背景介绍\n",
    "* MNist：大多数示例使用手写数字的MNIST数据集[1]。该数据集包含60,000个用于训练的示例和10,000个用于测试的示例。这些数字已经过尺寸标准化并位于图像中心，图像是固定大小(28x28像素)，其值为0到1。为简单起见，每个图像都被平展并转换为784(28 * 28)个特征的一维numpy数组。\n",
    "* [Mnist](http://yann.lecun.com/exdb/mnist/)\n",
    "* ![test](md_img/mnist.png)\n",
    "# 本次实验目标\n",
    "> 输入28*28的灰度图片，输出0-9的预测结果\n",
    "\n",
    "\n",
    "输入: 784  \n",
    "输出: 10  \n",
    "\n",
    "$$\\vec{h} = A(data + b_0)$$\n",
    "\n",
    "$$\\vec{output} = B(\\vec{h}w_1 + b_1)$$\n",
    "\n",
    "____\n",
    "* 参数维度\n",
    "\n",
    "data:784\n",
    "\n",
    "output:10\n",
    "\n",
    "$b_0$:784\n",
    "\n",
    "$\\vec{h}$:784\n",
    "\n",
    "$w_1$:[784, 10]\n",
    "\n",
    "$b_1$:10\n",
    "____\n",
    "* 参数初始化\n",
    "\n",
    "$b_0 = 0$\n",
    "\n",
    "$b_1 = 0$\n",
    "\n",
    "$w_1 = [-1,1]$\n",
    "\n",
    "* 激活函数\n",
    "____\n",
    "\n",
    "A:tanh 如果输入过大或者过小，对输出的影响都不敏感，在较小的区间内呈现出类似于线性函数的特征\n",
    "\n",
    "B:softmax 分类器，输出每种分类的概率\n",
    "____"
   ]
  },
  {
   "cell_type": "markdown",
   "metadata": {},
   "source": [
    "## 正式开始实现"
   ]
  },
  {
   "cell_type": "code",
   "execution_count": 21,
   "metadata": {},
   "outputs": [],
   "source": [
    "import math\n",
    "import numpy as np\n",
    "import matplotlib.pyplot as plt"
   ]
  },
  {
   "cell_type": "code",
   "execution_count": 2,
   "metadata": {},
   "outputs": [],
   "source": [
    "#定义需要的两个激活函数\n",
    "def tanh(x):\n",
    "    return np.tanh(x)\n",
    "def softmax(x):\n",
    "    exp=np.exp(x-x.max())\n",
    "    return exp/exp.sum()"
   ]
  },
  {
   "cell_type": "code",
   "execution_count": 3,
   "metadata": {},
   "outputs": [
    {
     "name": "stderr",
     "output_type": "stream",
     "text": [
      "C:\\ProgramData\\Anaconda3\\lib\\site-packages\\ipykernel_launcher.py:1: RuntimeWarning: overflow encountered in exp\n",
      "  \"\"\"Entry point for launching an IPython kernel.\n"
     ]
    },
    {
     "data": {
      "text/plain": [
       "inf"
      ]
     },
     "execution_count": 3,
     "metadata": {},
     "output_type": "execute_result"
    }
   ],
   "source": [
    "np.exp(1000)"
   ]
  },
  {
   "cell_type": "code",
   "execution_count": 14,
   "metadata": {},
   "outputs": [
    {
     "data": {
      "text/plain": [
       "array([0.09003057, 0.24472847, 0.66524096])"
      ]
     },
     "execution_count": 14,
     "metadata": {},
     "output_type": "execute_result"
    }
   ],
   "source": [
    "softmax(np.array([-2,-1,0]))"
   ]
  },
  {
   "cell_type": "code",
   "execution_count": 45,
   "metadata": {},
   "outputs": [],
   "source": [
    "dimensions=[28*28,10]\n",
    "activation=[tanh,softmax]\n",
    "# distribution=[\n",
    "#     {'b':[0,0]},\n",
    "#     {'b':[0,0],'w':[-math.sqrt(6/(dimensions[0]+dimensions[1])),math.sqrt(6/(dimensions[0]+dimensions[1]))]},\n",
    "# ]\n",
    "distribution=[\n",
    "    {'b':[0,0]},\n",
    "    {'b':[0,0],'w':[-1,1]},\n",
    "]"
   ]
  },
  {
   "cell_type": "code",
   "execution_count": 46,
   "metadata": {},
   "outputs": [],
   "source": [
    "#实现初始化参数\n",
    "def init_parameters_b(layer):\n",
    "    dist=distribution[layer]['b']\n",
    "    return np.random.rand(dimensions[layer])*(dist[1]-dist[0])+dist[0]\n",
    "def init_parameters_w(layer):\n",
    "    dist=distribution[layer]['w']\n",
    "    return np.random.rand(dimensions[layer-1],dimensions[layer])*(dist[1]-dist[0])+dist[0]\n",
    "def init_parameters():\n",
    "    parameter=[]\n",
    "    for i in range(len(distribution)):\n",
    "        layer_parameter={}\n",
    "        for j in distribution[i].keys():\n",
    "            if j=='b':\n",
    "                layer_parameter['b']=init_parameters_b(i)\n",
    "                continue\n",
    "            if j=='w':\n",
    "                layer_parameter['w']=init_parameters_w(i)\n",
    "                continue\n",
    "        parameter.append(layer_parameter)\n",
    "    return parameter"
   ]
  },
  {
   "cell_type": "code",
   "execution_count": 47,
   "metadata": {},
   "outputs": [],
   "source": [
    "parameters=init_parameters()"
   ]
  },
  {
   "cell_type": "code",
   "execution_count": 48,
   "metadata": {},
   "outputs": [
    {
     "data": {
      "text/plain": [
       "[{'b': array([0., 0., 0., 0., 0., 0., 0., 0., 0., 0., 0., 0., 0., 0., 0., 0., 0.,\n",
       "         0., 0., 0., 0., 0., 0., 0., 0., 0., 0., 0., 0., 0., 0., 0., 0., 0.,\n",
       "         0., 0., 0., 0., 0., 0., 0., 0., 0., 0., 0., 0., 0., 0., 0., 0., 0.,\n",
       "         0., 0., 0., 0., 0., 0., 0., 0., 0., 0., 0., 0., 0., 0., 0., 0., 0.,\n",
       "         0., 0., 0., 0., 0., 0., 0., 0., 0., 0., 0., 0., 0., 0., 0., 0., 0.,\n",
       "         0., 0., 0., 0., 0., 0., 0., 0., 0., 0., 0., 0., 0., 0., 0., 0., 0.,\n",
       "         0., 0., 0., 0., 0., 0., 0., 0., 0., 0., 0., 0., 0., 0., 0., 0., 0.,\n",
       "         0., 0., 0., 0., 0., 0., 0., 0., 0., 0., 0., 0., 0., 0., 0., 0., 0.,\n",
       "         0., 0., 0., 0., 0., 0., 0., 0., 0., 0., 0., 0., 0., 0., 0., 0., 0.,\n",
       "         0., 0., 0., 0., 0., 0., 0., 0., 0., 0., 0., 0., 0., 0., 0., 0., 0.,\n",
       "         0., 0., 0., 0., 0., 0., 0., 0., 0., 0., 0., 0., 0., 0., 0., 0., 0.,\n",
       "         0., 0., 0., 0., 0., 0., 0., 0., 0., 0., 0., 0., 0., 0., 0., 0., 0.,\n",
       "         0., 0., 0., 0., 0., 0., 0., 0., 0., 0., 0., 0., 0., 0., 0., 0., 0.,\n",
       "         0., 0., 0., 0., 0., 0., 0., 0., 0., 0., 0., 0., 0., 0., 0., 0., 0.,\n",
       "         0., 0., 0., 0., 0., 0., 0., 0., 0., 0., 0., 0., 0., 0., 0., 0., 0.,\n",
       "         0., 0., 0., 0., 0., 0., 0., 0., 0., 0., 0., 0., 0., 0., 0., 0., 0.,\n",
       "         0., 0., 0., 0., 0., 0., 0., 0., 0., 0., 0., 0., 0., 0., 0., 0., 0.,\n",
       "         0., 0., 0., 0., 0., 0., 0., 0., 0., 0., 0., 0., 0., 0., 0., 0., 0.,\n",
       "         0., 0., 0., 0., 0., 0., 0., 0., 0., 0., 0., 0., 0., 0., 0., 0., 0.,\n",
       "         0., 0., 0., 0., 0., 0., 0., 0., 0., 0., 0., 0., 0., 0., 0., 0., 0.,\n",
       "         0., 0., 0., 0., 0., 0., 0., 0., 0., 0., 0., 0., 0., 0., 0., 0., 0.,\n",
       "         0., 0., 0., 0., 0., 0., 0., 0., 0., 0., 0., 0., 0., 0., 0., 0., 0.,\n",
       "         0., 0., 0., 0., 0., 0., 0., 0., 0., 0., 0., 0., 0., 0., 0., 0., 0.,\n",
       "         0., 0., 0., 0., 0., 0., 0., 0., 0., 0., 0., 0., 0., 0., 0., 0., 0.,\n",
       "         0., 0., 0., 0., 0., 0., 0., 0., 0., 0., 0., 0., 0., 0., 0., 0., 0.,\n",
       "         0., 0., 0., 0., 0., 0., 0., 0., 0., 0., 0., 0., 0., 0., 0., 0., 0.,\n",
       "         0., 0., 0., 0., 0., 0., 0., 0., 0., 0., 0., 0., 0., 0., 0., 0., 0.,\n",
       "         0., 0., 0., 0., 0., 0., 0., 0., 0., 0., 0., 0., 0., 0., 0., 0., 0.,\n",
       "         0., 0., 0., 0., 0., 0., 0., 0., 0., 0., 0., 0., 0., 0., 0., 0., 0.,\n",
       "         0., 0., 0., 0., 0., 0., 0., 0., 0., 0., 0., 0., 0., 0., 0., 0., 0.,\n",
       "         0., 0., 0., 0., 0., 0., 0., 0., 0., 0., 0., 0., 0., 0., 0., 0., 0.,\n",
       "         0., 0., 0., 0., 0., 0., 0., 0., 0., 0., 0., 0., 0., 0., 0., 0., 0.,\n",
       "         0., 0., 0., 0., 0., 0., 0., 0., 0., 0., 0., 0., 0., 0., 0., 0., 0.,\n",
       "         0., 0., 0., 0., 0., 0., 0., 0., 0., 0., 0., 0., 0., 0., 0., 0., 0.,\n",
       "         0., 0., 0., 0., 0., 0., 0., 0., 0., 0., 0., 0., 0., 0., 0., 0., 0.,\n",
       "         0., 0., 0., 0., 0., 0., 0., 0., 0., 0., 0., 0., 0., 0., 0., 0., 0.,\n",
       "         0., 0., 0., 0., 0., 0., 0., 0., 0., 0., 0., 0., 0., 0., 0., 0., 0.,\n",
       "         0., 0., 0., 0., 0., 0., 0., 0., 0., 0., 0., 0., 0., 0., 0., 0., 0.,\n",
       "         0., 0., 0., 0., 0., 0., 0., 0., 0., 0., 0., 0., 0., 0., 0., 0., 0.,\n",
       "         0., 0., 0., 0., 0., 0., 0., 0., 0., 0., 0., 0., 0., 0., 0., 0., 0.,\n",
       "         0., 0., 0., 0., 0., 0., 0., 0., 0., 0., 0., 0., 0., 0., 0., 0., 0.,\n",
       "         0., 0., 0., 0., 0., 0., 0., 0., 0., 0., 0., 0., 0., 0., 0., 0., 0.,\n",
       "         0., 0., 0., 0., 0., 0., 0., 0., 0., 0., 0., 0., 0., 0., 0., 0., 0.,\n",
       "         0., 0., 0., 0., 0., 0., 0., 0., 0., 0., 0., 0., 0., 0., 0., 0., 0.,\n",
       "         0., 0., 0., 0., 0., 0., 0., 0., 0., 0., 0., 0., 0., 0., 0., 0., 0.,\n",
       "         0., 0., 0., 0., 0., 0., 0., 0., 0., 0., 0., 0., 0., 0., 0., 0., 0.,\n",
       "         0., 0.])},\n",
       " {'b': array([0., 0., 0., 0., 0., 0., 0., 0., 0., 0.]),\n",
       "  'w': array([[-0.11063313,  0.01986579, -0.54817987, ...,  0.06447563,\n",
       "           0.55723463, -0.36988999],\n",
       "         [ 0.93507145, -0.13798472, -0.68732584, ...,  0.04820882,\n",
       "          -0.33476673, -0.69842804],\n",
       "         [-0.22759392, -0.61509861, -0.93002526, ..., -0.45658224,\n",
       "          -0.4769593 , -0.68456901],\n",
       "         ...,\n",
       "         [ 0.28200054, -0.92222148, -0.16388762, ...,  0.95929227,\n",
       "           0.60109395,  0.84298182],\n",
       "         [ 0.22296947, -0.4467861 , -0.65828542, ..., -0.10003993,\n",
       "           0.29943921, -0.46707877],\n",
       "         [ 0.01722276,  0.04571887, -0.87339843, ..., -0.03931738,\n",
       "          -0.36247935,  0.61174093]])}]"
      ]
     },
     "execution_count": 48,
     "metadata": {},
     "output_type": "execute_result"
    }
   ],
   "source": [
    "#测试参数生成\n",
    "import tensorflow as tf\n",
    "# print(tf.shape(parameters[0]['b']))\n",
    "# print(tf.shape(parameters[1]['b']))\n",
    "# print(tf.shape(parameters[1]['w']))\n",
    "parameters"
   ]
  },
  {
   "cell_type": "markdown",
   "metadata": {},
   "source": [
    "## 定义预测函数\n",
    "\n",
    "* 输入: 28*28\n",
    "* 输出: 10\n",
    "\n",
    "$\\vec{h} = A(data + b_0)$\n",
    "\n",
    "output = $B(\\vec{h} w_1 + b_1)$\n",
    "____"
   ]
  },
  {
   "cell_type": "code",
   "execution_count": 15,
   "metadata": {},
   "outputs": [],
   "source": [
    "#定义预测函数\n",
    "def predict(img,parameters):\n",
    "    l0_in=img+parameters[0]['b']\n",
    "    l0_out=activation[0](l0_in)\n",
    "    l1_in=np.dot(l0_out,parameters[1]['w'])+parameters[1]['b']\n",
    "    l1_out=activation[1](l1_in)\n",
    "    return l1_out"
   ]
  },
  {
   "cell_type": "code",
   "execution_count": 16,
   "metadata": {},
   "outputs": [
    {
     "data": {
      "text/plain": [
       "array([1.31779086e-06, 2.43796927e-07, 2.34876198e-10, 4.46492815e-02,\n",
       "       5.90359130e-02, 8.78048316e-02, 1.67109396e-02, 2.06152860e-10,\n",
       "       7.91797467e-01, 5.26289356e-09])"
      ]
     },
     "execution_count": 16,
     "metadata": {},
     "output_type": "execute_result"
    }
   ],
   "source": [
    "#测试预测函数\n",
    "predict(np.random.rand(784),parameters)"
   ]
  },
  {
   "cell_type": "markdown",
   "metadata": {},
   "source": [
    "## 读取数据集\n",
    "* 读取数据集\n",
    "* 展示数据集"
   ]
  },
  {
   "cell_type": "code",
   "execution_count": 17,
   "metadata": {},
   "outputs": [],
   "source": [
    "#读取数据集\n",
    "from pathlib import Path\n",
    "import struct\n",
    "dataset_path=Path('./MNIST')\n",
    "train_img_path=dataset_path/'train-images.idx3-ubyte'\n",
    "train_lab_path=dataset_path/'train-labels.idx1-ubyte'\n",
    "test_img_path=dataset_path/'t10k-images.idx3-ubyte'\n",
    "test_lab_path=dataset_path/'t10k-labels.idx1-ubyte'"
   ]
  },
  {
   "cell_type": "code",
   "execution_count": 18,
   "metadata": {},
   "outputs": [],
   "source": [
    "train_num=50000\n",
    "valid_num=10000\n",
    "test_num=10000\n",
    "\n",
    "with open(train_img_path,'rb') as f:\n",
    "    struct.unpack('>4i',f.read(16))\n",
    "    tmp_img=np.fromfile(f,dtype=np.uint8).reshape(-1,28*28)/255\n",
    "    train_img=tmp_img[:train_num]\n",
    "    valid_img=tmp_img[train_num:]\n",
    "    \n",
    "with open(test_img_path,'rb') as f:\n",
    "    struct.unpack('>4i',f.read(16))\n",
    "    test_img=np.fromfile(f,dtype=np.uint8).reshape(-1,28*28)/255\n",
    "\n",
    "with open(train_lab_path,'rb') as f:\n",
    "    struct.unpack('>2i',f.read(8))\n",
    "    tmp_lab=np.fromfile(f,dtype=np.uint8)\n",
    "    train_lab=tmp_lab[:train_num]\n",
    "    valid_lab=tmp_lab[train_num:]\n",
    "    \n",
    "with open(test_lab_path,'rb') as f:\n",
    "    struct.unpack('>2i',f.read(8))\n",
    "    test_lab=np.fromfile(f,dtype=np.uint8)"
   ]
  },
  {
   "cell_type": "code",
   "execution_count": 19,
   "metadata": {},
   "outputs": [],
   "source": [
    "def show_train(index):\n",
    "    plt.imshow(train_img[index].reshape(28,28),cmap='gray')\n",
    "    print('label : {}'.format(train_lab[index]))\n",
    "def show_valid(index):\n",
    "    plt.imshow(valid_img[index].reshape(28,28),cmap='gray')\n",
    "    print('label : {}'.format(valid_lab[index]))\n",
    "def show_test(index):\n",
    "    plt.imshow(test_img[index].reshape(28,28),cmap='gray')\n",
    "    print('label : {}'.format(test_lab[index]))"
   ]
  },
  {
   "cell_type": "code",
   "execution_count": 22,
   "metadata": {},
   "outputs": [
    {
     "name": "stdout",
     "output_type": "stream",
     "text": [
      "label : 2\n"
     ]
    },
    {
     "data": {
      "image/png": "[encoded data removed]",
      "text/plain": [
       "<Figure size 432x288 with 1 Axes>"
      ]
     },
     "metadata": {
      "needs_background": "light"
     },
     "output_type": "display_data"
    }
   ],
   "source": [
    "#测试show_train\n",
    "show_train(np.random.randint(train_num))"
   ]
  },
  {
   "cell_type": "code",
   "execution_count": 15,
   "metadata": {},
   "outputs": [
    {
     "name": "stdout",
     "output_type": "stream",
     "text": [
      "label : 9\n"
     ]
    },
    {
     "data": {
      "image/png": "[encoded data removed]",
      "text/plain": [
       "<Figure size 432x288 with 1 Axes>"
      ]
     },
     "metadata": {
      "needs_background": "light"
     },
     "output_type": "display_data"
    }
   ],
   "source": [
    "#测试show_test\n",
    "show_test(np.random.randint(test_num))"
   ]
  },
  {
   "cell_type": "markdown",
   "metadata": {},
   "source": [
    "## 定义激活函数的导数"
   ]
  },
  {
   "cell_type": "code",
   "execution_count": 23,
   "metadata": {},
   "outputs": [],
   "source": [
    "#定义两个激活函数的导数\n",
    "def d_softmax(data):\n",
    "    sm=softmax(data)\n",
    "    return np.diag(sm)-np.outer(sm,sm)\n",
    "\n",
    "# def d_tanh(data):\n",
    "#     return np.diag(1/(np.cosh(data))**2)\n",
    "def d_tanh(data):\n",
    "    return 1/(np.cosh(data))**2\n",
    "\n",
    "differential={softmax:d_softmax,tanh:d_tanh}"
   ]
  },
  {
   "cell_type": "markdown",
   "metadata": {},
   "source": [
    "$tanh(x)' = \\frac{1}{cosx^2}$"
   ]
  },
  {
   "cell_type": "markdown",
   "metadata": {},
   "source": [
    "$tanh(x) = \\frac{e^x - e^{-x}}{e^x + e^{-x}}$"
   ]
  },
  {
   "cell_type": "markdown",
   "metadata": {},
   "source": [
    "$[\\frac{e^1}{e^1 + e^2 + e^3}, \\frac{e^2}{e^1 + e^2 + e^3}, \\frac{e^3}{e^1 + e^2 + e^3}]$"
   ]
  },
  {
   "cell_type": "code",
   "execution_count": 17,
   "metadata": {},
   "outputs": [
    {
     "name": "stderr",
     "output_type": "stream",
     "text": [
      "/root/anaconda3/lib/python3.7/site-packages/ipykernel_launcher.py:1: RuntimeWarning: overflow encountered in exp\n",
      "  \"\"\"Entry point for launching an IPython kernel.\n"
     ]
    },
    {
     "data": {
      "text/plain": [
       "inf"
      ]
     },
     "execution_count": 17,
     "metadata": {},
     "output_type": "execute_result"
    }
   ],
   "source": [
    "np.exp(1000)"
   ]
  },
  {
   "cell_type": "markdown",
   "metadata": {},
   "source": [
    "## 定义损失函数"
   ]
  },
  {
   "cell_type": "code",
   "execution_count": 24,
   "metadata": {},
   "outputs": [],
   "source": [
    "#定义损失函数\n",
    "onehot=np.identity(10)\n",
    "\n",
    "def sqr_loss(img,lab,parameters):\n",
    "    y_pred=predict(img,parameters)\n",
    "    y=onehot[lab]\n",
    "    diff=y-y_pred\n",
    "    return np.dot(diff,diff)"
   ]
  },
  {
   "cell_type": "code",
   "execution_count": 25,
   "metadata": {},
   "outputs": [
    {
     "data": {
      "text/plain": [
       "1.9822012546332282"
      ]
     },
     "execution_count": 25,
     "metadata": {},
     "output_type": "execute_result"
    }
   ],
   "source": [
    "#测试损失函数\n",
    "sqr_loss(train_img[0],train_lab[0],parameters)"
   ]
  },
  {
   "cell_type": "markdown",
   "metadata": {},
   "source": [
    "## 定义梯度"
   ]
  },
  {
   "cell_type": "code",
   "execution_count": 26,
   "metadata": {},
   "outputs": [],
   "source": [
    "def grad_parameters(img,lab,parameters):\n",
    "    l0_in=img+parameters[0]['b']\n",
    "    l0_out=activation[0](l0_in)\n",
    "    l1_in=np.dot(l0_out,parameters[1]['w'])+parameters[1]['b']\n",
    "    l1_out=activation[1](l1_in)\n",
    "    \n",
    "    diff=onehot[lab]-l1_out\n",
    "    act1=np.dot(differential[activation[1]](l1_in),diff)\n",
    "    \n",
    "    grad_b1=-2*act1\n",
    "    grad_w1=-2*np.outer(l0_out,act1)\n",
    "    grad_b0=-2*differential[activation[0]](l0_in)*np.dot(parameters[1]['w'],act1)\n",
    "    \n",
    "    return {'w1':grad_w1,'b1':grad_b1,'b0':grad_b0}"
   ]
  },
  {
   "cell_type": "code",
   "execution_count": 27,
   "metadata": {},
   "outputs": [
    {
     "data": {
      "text/plain": [
       "{'w1': array([[-0., -0., -0., ..., -0., -0., -0.],\n",
       "        [-0., -0., -0., ..., -0., -0., -0.],\n",
       "        [-0., -0., -0., ..., -0., -0., -0.],\n",
       "        ...,\n",
       "        [-0., -0., -0., ..., -0., -0., -0.],\n",
       "        [-0., -0., -0., ..., -0., -0., -0.],\n",
       "        [-0., -0., -0., ..., -0., -0., -0.]]),\n",
       " 'b1': array([-8.97529566e-04, -1.57305145e-04, -1.13258721e-05,  1.51856573e-02,\n",
       "        -3.34573808e-03, -8.80455733e-04, -6.32826250e-03, -3.27152101e-03,\n",
       "        -2.34009828e-04, -5.95096104e-05]),\n",
       " 'b0': array([-8.35839128e-03, -5.34125889e-03, -1.37208082e-02,  5.61553159e-03,\n",
       "         1.95620702e-02,  4.82436064e-03, -1.81148739e-02,  7.06783791e-03,\n",
       "         6.77894581e-03, -6.20645121e-05, -1.03271620e-02,  8.64674933e-03,\n",
       "         1.20581038e-02, -1.66106477e-02,  1.42724550e-03, -2.10642636e-03,\n",
       "         5.17487744e-03,  6.77834056e-03,  5.23595222e-03,  9.60313306e-03,\n",
       "         5.52857690e-03,  1.52551626e-02,  1.26690528e-02, -9.09700995e-03,\n",
       "        -7.05989943e-03, -1.50500067e-03,  1.54893607e-02,  9.42818548e-03,\n",
       "        -6.14107702e-03, -5.62287700e-03, -1.77016958e-02, -1.08695394e-02,\n",
       "        -4.73702194e-03,  9.69312031e-04,  3.38897299e-05,  9.68205152e-03,\n",
       "         1.40352488e-02,  1.28429731e-02,  8.39480940e-04,  1.05712592e-02,\n",
       "        -1.73710289e-02, -9.64789484e-03,  7.18972793e-03,  1.03710320e-02,\n",
       "        -3.68373317e-03,  1.56242949e-03,  4.60410099e-03, -1.41165218e-02,\n",
       "        -1.05017685e-02, -1.69197853e-02,  1.14012162e-02, -3.17723825e-03,\n",
       "         5.86251639e-03, -4.55389491e-03, -6.27766397e-04, -2.45242403e-03,\n",
       "         3.32728074e-03,  9.66014811e-03,  8.54219077e-03, -2.63156769e-03,\n",
       "         7.90602741e-03,  5.91128736e-04, -4.63103323e-03,  7.27767514e-03,\n",
       "         2.20731150e-03,  1.65127510e-02,  5.15687997e-03, -4.42550832e-04,\n",
       "         1.57667838e-03,  4.46071508e-03,  5.84473192e-03,  9.07912645e-03,\n",
       "         2.09107272e-02,  2.36699460e-02,  1.28038267e-02, -1.19544611e-02,\n",
       "         1.16261562e-02, -1.62204299e-02,  3.32573066e-04,  1.43708779e-02,\n",
       "        -1.15140572e-02, -1.62038995e-02, -6.64056214e-03, -2.68635750e-03,\n",
       "        -4.15420403e-03,  1.43767043e-02, -3.52162151e-03,  7.34874136e-03,\n",
       "        -1.50134966e-02, -1.85408493e-03, -5.97253728e-03, -7.70481837e-03,\n",
       "         1.85042403e-03,  1.69247570e-03,  4.48173562e-03,  3.94761096e-03,\n",
       "        -6.09264268e-03,  1.84609092e-02,  9.15935735e-03, -1.60288369e-02,\n",
       "         2.47151419e-03, -1.75132583e-03,  2.15554612e-02, -1.08568207e-02,\n",
       "        -5.38923467e-03,  1.63112882e-02,  1.36774969e-03, -1.01017574e-03,\n",
       "        -9.67172656e-03, -2.05714170e-02,  1.31786779e-02, -1.20454389e-02,\n",
       "         9.62068604e-03,  1.20974865e-02,  1.74756972e-02,  3.63575259e-03,\n",
       "        -1.33278364e-02, -8.15359725e-03,  3.03751796e-03, -8.62243956e-03,\n",
       "        -3.93034010e-03, -7.80119830e-03,  4.28420827e-03,  3.99100767e-03,\n",
       "        -6.96652322e-03,  9.98542524e-03,  1.32837396e-02, -1.64502311e-02,\n",
       "        -2.45694320e-03,  2.86176292e-03, -4.70804440e-03,  7.45219664e-03,\n",
       "        -7.93939346e-03,  9.73363380e-04, -4.65506787e-03,  5.09916398e-03,\n",
       "        -3.79960523e-03,  2.49196922e-02, -3.19170301e-03, -8.78287071e-04,\n",
       "         8.60141093e-03, -5.18163659e-03, -7.67823469e-03,  9.12309830e-03,\n",
       "         5.69992325e-03, -9.61483330e-03,  5.34989829e-04,  1.34362523e-03,\n",
       "         1.48173676e-02,  1.01570384e-02, -4.22456962e-03, -6.73901076e-03,\n",
       "         1.12639146e-02, -4.97857054e-04,  7.50129527e-03, -1.62759133e-04,\n",
       "         2.66076235e-03, -8.20197284e-03,  9.08791485e-03, -1.17750589e-02,\n",
       "         4.10305929e-03,  4.44696391e-03,  7.20534143e-03,  1.27302774e-02,\n",
       "         2.09109442e-02, -1.17840327e-02,  1.68535551e-02, -5.45905767e-03,\n",
       "         1.51291239e-02, -8.07673020e-03,  9.48311248e-03, -9.34733696e-05,\n",
       "         1.01434332e-02, -3.11975379e-03,  5.63583825e-03,  5.75590337e-03,\n",
       "         1.14765621e-02, -1.65725199e-02, -1.81781627e-02, -4.29306537e-03,\n",
       "         8.29402330e-03,  6.48925555e-03,  9.36958945e-03, -4.97385263e-03,\n",
       "         3.27683831e-04,  7.87043527e-03, -1.19547598e-02, -1.34038752e-02,\n",
       "         6.52915908e-03,  1.44435525e-03,  8.83738335e-03,  7.74306472e-03,\n",
       "        -1.00514819e-02,  5.32062237e-03,  8.15320109e-03,  1.27634258e-02,\n",
       "        -1.06853142e-02, -2.37312411e-03, -1.46285969e-02,  1.33049237e-02,\n",
       "         1.30542203e-02, -2.52723104e-03,  8.27540521e-03, -1.02999232e-03,\n",
       "        -1.44753332e-02,  5.52333176e-03,  6.69350221e-03, -1.58433410e-02,\n",
       "         7.49662163e-03, -7.04779382e-03, -1.22842597e-02, -1.84830282e-03,\n",
       "         1.39855218e-02,  6.31352913e-03, -1.48297463e-02,  3.38934718e-03,\n",
       "        -6.62877874e-03,  5.75719349e-03,  1.44137908e-02,  1.95541441e-02,\n",
       "         8.10794967e-03, -4.58825637e-03, -6.31258088e-03,  8.76559737e-03,\n",
       "        -1.49603323e-02, -9.71335649e-03, -3.96255520e-03, -2.12043313e-03,\n",
       "        -3.12815557e-03,  5.99221757e-03,  5.43202946e-03, -9.03813632e-04,\n",
       "        -9.52207459e-03, -1.38406399e-02,  1.63812992e-02,  1.43130646e-02,\n",
       "        -6.26658585e-03, -1.84001540e-02,  8.79091617e-03,  9.12318712e-03,\n",
       "        -3.84151764e-03,  7.49930864e-03, -2.33399185e-03, -1.34922235e-02,\n",
       "        -1.20013433e-03, -2.45301294e-03,  1.87235962e-02,  6.47738169e-03,\n",
       "         9.04561565e-03, -1.78941246e-03, -2.89415340e-03,  2.10333201e-03,\n",
       "        -6.02399020e-04, -4.35288849e-03,  1.29300391e-02, -3.85006484e-03,\n",
       "         7.31630507e-04, -6.38921249e-03, -5.93935905e-05, -1.51483706e-02,\n",
       "        -1.28440162e-03, -1.43829370e-02, -3.33054898e-03, -2.97546136e-03,\n",
       "        -6.58845675e-03, -6.52283492e-03, -7.70284688e-03, -1.36712024e-02,\n",
       "        -8.54573417e-03, -9.90562153e-03, -6.22076017e-03, -9.82411806e-03,\n",
       "         1.45459409e-03,  7.68754545e-03,  1.32780017e-02,  9.00071756e-04,\n",
       "        -4.74501190e-03,  4.00242229e-03, -3.53622701e-03,  7.31449850e-03,\n",
       "        -9.75946834e-03,  7.65593601e-03,  6.07010229e-03, -1.72909057e-03,\n",
       "        -1.69049170e-03, -2.10693899e-03, -7.90723651e-03, -7.45393514e-03,\n",
       "         4.24886363e-03,  7.32627994e-03,  5.10599485e-03, -1.76507662e-02,\n",
       "        -5.49388863e-03,  1.46263929e-02,  1.18535559e-02,  1.26915167e-03,\n",
       "         6.46282523e-04, -1.42360909e-02,  7.37329855e-03, -6.26288989e-05,\n",
       "         2.43055218e-03,  8.92408413e-03,  1.24414497e-02,  6.55988247e-03,\n",
       "         9.37842213e-03,  7.08007913e-04, -7.35278334e-03,  5.28320647e-03,\n",
       "         8.88771246e-03,  1.39800623e-02,  1.26165278e-02,  4.43142767e-03,\n",
       "         3.47184004e-03, -1.04267387e-02,  1.03648557e-02,  5.17463675e-03,\n",
       "         1.11589419e-02,  1.46939647e-02,  1.61697670e-02, -1.12996099e-02,\n",
       "         6.94902080e-03,  1.48351031e-02, -2.95375616e-04, -1.86238982e-03,\n",
       "        -1.02235549e-02,  5.61529211e-03,  5.47667190e-03, -1.27005573e-03,\n",
       "         5.36429217e-03, -1.51237814e-02, -1.86295636e-02,  7.33730686e-03,\n",
       "        -1.85398513e-02,  1.20012698e-02,  1.38622315e-02,  1.48138021e-02,\n",
       "         4.54187744e-03,  8.56565364e-03, -4.50984784e-03, -4.16407036e-03,\n",
       "        -3.78523864e-04,  5.17276764e-03, -1.07159807e-03, -5.34147242e-03,\n",
       "        -4.64290015e-04, -2.55771720e-02,  2.87195933e-03, -5.38110333e-03,\n",
       "         1.17607976e-02, -5.48219436e-03, -8.98229736e-03,  1.72540309e-02,\n",
       "         3.34464763e-03, -1.02802491e-02,  6.04949772e-03, -4.29102799e-04,\n",
       "         3.03261484e-03,  2.72251956e-03,  1.06288529e-02, -9.31323588e-04,\n",
       "         3.63547515e-03,  1.11205136e-02,  8.68301853e-03, -1.52172758e-02,\n",
       "         7.28648699e-03, -3.12303012e-03, -1.79116254e-02,  6.46336746e-04,\n",
       "        -6.21691734e-03,  1.98643930e-02, -1.00060605e-02, -1.62491068e-03,\n",
       "         9.47750036e-03,  2.76323114e-03, -6.58888517e-03, -2.66808567e-03,\n",
       "         8.18821416e-03, -3.26934196e-03,  6.36322084e-03, -9.80971793e-03,\n",
       "         1.43097690e-02, -3.24592005e-03, -2.93351502e-03,  4.66444163e-03,\n",
       "        -1.04971944e-02,  5.32184795e-04,  1.22446871e-02,  3.68558230e-03,\n",
       "         2.03293447e-03, -1.14694715e-02,  1.11611296e-02,  6.78077506e-03,\n",
       "         9.15919965e-03, -6.48321204e-03,  9.14721124e-03,  9.81069558e-03,\n",
       "         5.46416759e-04,  2.83696708e-03, -6.18660808e-03,  5.23040873e-03,\n",
       "        -9.43232269e-03,  5.01350486e-04, -7.80010012e-03, -6.11710888e-03,\n",
       "         5.13209665e-03, -4.63020314e-03, -1.83953692e-03, -4.59957165e-03,\n",
       "        -1.81975961e-03,  1.13762265e-02,  5.89661920e-03,  3.79557880e-03,\n",
       "        -7.71640983e-03, -1.23142688e-02,  5.73868261e-03,  1.34087970e-02,\n",
       "         4.29147159e-03,  9.57904998e-03,  1.07044304e-02,  1.99221102e-02,\n",
       "        -2.61706503e-03,  1.45577671e-02,  2.77056800e-03,  4.78140880e-03,\n",
       "         1.20878142e-03,  3.42858245e-03, -1.69856130e-03,  7.83897376e-04,\n",
       "        -6.53504210e-04,  4.18284416e-03, -9.40530680e-05, -1.60026261e-04,\n",
       "        -3.15430401e-03, -4.17154650e-03,  1.54810025e-03, -7.50441948e-03,\n",
       "         9.89481461e-05, -1.41143581e-02,  2.40869300e-03, -1.51957209e-03,\n",
       "         1.16327294e-02, -9.55667123e-03,  1.44912348e-02, -8.35596990e-03,\n",
       "         7.95354718e-03,  5.12660372e-03,  1.46623119e-02,  4.65114541e-03,\n",
       "         1.74226145e-03, -5.67281482e-03, -5.50606280e-03,  4.15548027e-03,\n",
       "         4.67841941e-03,  5.75094804e-03,  2.76135746e-03, -5.62818508e-03,\n",
       "        -7.30893481e-04, -6.00692150e-03,  2.36115112e-03,  1.62798089e-02,\n",
       "         4.02249298e-04,  1.47418653e-02,  7.20601078e-03,  1.14021295e-02,\n",
       "         1.44496676e-02, -1.32249960e-02,  2.15247121e-03,  4.09362355e-03,\n",
       "         1.45143285e-02,  1.31540261e-02,  1.55092259e-02, -4.18210240e-03,\n",
       "         2.64852642e-03, -4.82464320e-03, -4.67698373e-03,  3.50518964e-03,\n",
       "        -1.36248164e-02, -7.11345454e-03,  4.60594167e-03,  2.63389543e-03,\n",
       "         1.34032875e-03, -1.29473325e-03, -3.35849685e-03,  1.67917512e-03,\n",
       "         1.10303519e-02, -3.11467239e-05,  6.49283788e-03, -7.81435880e-03,\n",
       "         1.76452284e-02,  1.04238370e-02, -4.69215195e-03,  5.81979544e-04,\n",
       "        -1.98356723e-02, -5.70613891e-03,  8.49987248e-04,  1.68373729e-02,\n",
       "         1.64191887e-02,  1.04608380e-02, -7.32840721e-03,  2.85896382e-03,\n",
       "        -2.01301614e-04, -1.02907026e-02, -1.04965167e-02, -5.52796873e-04,\n",
       "        -1.20299484e-04, -1.09925685e-03,  5.85160937e-03,  2.06569223e-02,\n",
       "        -1.16742886e-02, -8.26894289e-03,  1.44519510e-02,  8.68505776e-03,\n",
       "         1.19268832e-02,  5.26283060e-03,  2.20560264e-02,  1.00600326e-02,\n",
       "        -1.88134070e-03, -1.69761724e-02, -6.26756005e-03, -3.38911679e-04,\n",
       "         5.13680542e-03, -1.95889890e-03, -2.17098912e-03, -3.15865206e-03,\n",
       "         1.47845344e-04,  7.96503637e-03, -6.92480846e-03,  3.70510666e-03,\n",
       "         7.66695055e-03,  6.70358506e-03, -6.96085158e-03,  1.53629095e-02,\n",
       "         1.86723844e-02, -7.97768542e-03,  1.13408760e-03,  1.64453412e-02,\n",
       "         7.86555740e-03,  8.11357602e-03, -3.97513230e-03, -5.54770721e-03,\n",
       "         1.86414221e-02,  1.63247283e-02, -7.57573261e-04,  3.04783372e-03,\n",
       "         6.02811064e-03,  2.72770615e-04,  3.29787225e-03,  1.78250017e-02,\n",
       "         8.11287070e-03,  1.23290614e-02,  3.27188272e-03, -8.57967903e-03,\n",
       "         1.60769195e-02,  7.16771498e-03,  1.16647724e-02, -6.28664396e-03,\n",
       "        -1.42586547e-02,  5.47605028e-03,  1.14969641e-03,  5.84922870e-04,\n",
       "        -3.94756512e-03,  1.31725191e-02,  2.90039058e-03, -1.25577523e-02,\n",
       "        -9.78917120e-03,  8.50944167e-03, -1.33852891e-02, -1.10724119e-03,\n",
       "        -6.13591574e-03, -1.12463163e-02, -1.19716727e-02,  6.45789325e-03,\n",
       "        -1.26230884e-02, -9.51967853e-03, -2.75361966e-03, -9.92746131e-03,\n",
       "         1.45935455e-02,  4.65504099e-03,  3.31550071e-03, -1.04595145e-02,\n",
       "         5.93363274e-03, -3.81389867e-04,  9.52299641e-03,  1.44994018e-02,\n",
       "        -4.47748660e-03,  2.85882044e-03,  5.52815415e-03,  1.88440260e-02,\n",
       "         1.69711364e-02, -7.93964903e-03, -9.42645940e-03,  1.36986903e-03,\n",
       "        -2.12047186e-02, -9.85594315e-03, -1.25158026e-02,  9.31486036e-03,\n",
       "        -1.52051804e-02,  1.69511449e-02, -1.91137863e-03, -1.35500385e-02,\n",
       "         2.55165368e-03, -2.51141096e-02,  9.62349215e-03, -1.12377955e-02,\n",
       "         9.98116223e-03, -1.07760556e-02, -1.69691111e-03,  5.61699226e-03,\n",
       "        -1.22563609e-02,  5.54497848e-03, -4.46853532e-03, -1.39720663e-02,\n",
       "         9.35346776e-03,  1.40185253e-02,  4.24760780e-03,  1.36261429e-02,\n",
       "         1.79470501e-03,  1.41545587e-02,  6.32130317e-03, -1.15250463e-02,\n",
       "        -8.54878402e-03, -1.64811988e-02,  1.90066621e-02,  1.54530384e-02,\n",
       "        -5.55854794e-03,  1.26907388e-02,  5.39264936e-03, -1.06719618e-02,\n",
       "        -1.22603262e-03, -5.33742688e-03, -1.26367239e-02,  1.92253332e-02,\n",
       "        -2.95910850e-04,  8.77304966e-03, -5.68655143e-04,  1.38931266e-02,\n",
       "         1.11144006e-02,  3.54186002e-04, -1.15603241e-03, -1.39468960e-02,\n",
       "         1.29550223e-02,  1.13014075e-02,  1.31172510e-02,  2.47826652e-03,\n",
       "        -9.42405051e-03, -2.58612186e-03, -5.29341447e-03, -1.04336783e-02,\n",
       "         3.66736635e-03, -1.49207100e-02,  6.48964966e-03,  1.18624084e-03,\n",
       "        -1.19865255e-02, -2.30032940e-02, -1.21192025e-02,  5.45466316e-04,\n",
       "         1.08917380e-02, -5.32271281e-03, -1.62339706e-02,  5.28767036e-03,\n",
       "         1.84310691e-03,  3.62564351e-03, -2.19418169e-04, -3.90339853e-03,\n",
       "        -1.18366759e-02, -2.01445414e-02,  3.76155440e-03, -2.00397348e-03,\n",
       "        -1.93908225e-04,  8.26558290e-03,  2.37206952e-03, -1.41144863e-02,\n",
       "         2.40565301e-03, -8.41398971e-03,  4.25295067e-03,  6.57405357e-04,\n",
       "        -1.38303645e-02,  8.42248375e-03, -3.40463762e-03, -5.49103642e-03,\n",
       "        -8.01241591e-03, -2.25115870e-03, -6.17287000e-03, -1.46935803e-04,\n",
       "        -1.63164622e-02,  1.60228803e-02,  1.76595427e-02, -1.12082168e-02,\n",
       "         9.94637585e-04, -4.64384207e-03,  7.33769878e-03,  4.14695297e-03,\n",
       "        -6.10681023e-03,  1.80445759e-02, -1.96333718e-03, -1.05458184e-02,\n",
       "        -3.70002702e-03,  1.28312342e-02,  6.20129990e-03, -8.84648393e-03,\n",
       "         5.92371651e-03,  2.55170845e-03,  1.52498118e-02,  1.04301101e-02,\n",
       "        -1.03409919e-02, -1.58708793e-03, -3.73517551e-03, -1.30893179e-03,\n",
       "        -7.22263076e-03,  1.13466126e-02, -7.20440767e-03, -1.12978988e-02,\n",
       "         6.42180544e-03,  1.81445550e-02, -1.46089354e-02,  1.57596778e-02,\n",
       "         1.01798202e-02,  6.24328365e-03,  7.05300350e-03, -8.92576614e-03,\n",
       "        -5.20019107e-03, -2.01859488e-02, -5.75730127e-03, -7.83280726e-03,\n",
       "         5.41992041e-03,  3.54268513e-03, -5.70186345e-03,  7.87650572e-03,\n",
       "        -1.77062060e-02,  1.29850863e-03, -3.31465590e-03,  1.91965326e-02,\n",
       "         1.79732193e-02, -6.32151857e-03,  7.32256338e-03, -2.07217350e-03,\n",
       "        -1.50998518e-02, -1.82906671e-03, -5.47495891e-03, -2.03257958e-03,\n",
       "        -4.06861838e-03, -7.15148229e-03, -3.64476684e-03,  6.81016866e-03,\n",
       "        -1.38613009e-03,  5.10535689e-03,  1.06649154e-02, -4.20675519e-03,\n",
       "         5.27032997e-03, -1.32378630e-02,  1.11323960e-02,  8.35729477e-03,\n",
       "        -1.06519393e-02, -8.21342240e-03, -1.10285836e-02,  9.85257533e-03,\n",
       "        -4.20384563e-03,  1.13903373e-02,  9.16708088e-03, -1.17642999e-03,\n",
       "         6.08050951e-03, -9.38422557e-03,  6.79306611e-03, -2.19940829e-03,\n",
       "        -1.08774752e-02, -9.61702798e-03,  8.93264036e-03, -5.04352703e-03,\n",
       "        -1.01352665e-02, -1.50189916e-02,  4.42095519e-04, -1.59010711e-02,\n",
       "        -1.20179188e-02,  1.75890783e-03, -1.23881319e-02,  1.18678946e-02,\n",
       "         1.59798761e-03, -7.76694562e-03, -4.38607793e-03, -1.30714383e-02,\n",
       "        -1.08108158e-02,  8.90569743e-03,  3.69362361e-04,  9.15744120e-03])}"
      ]
     },
     "execution_count": 27,
     "metadata": {},
     "output_type": "execute_result"
    }
   ],
   "source": [
    "grad_parameters(train_img[2],train_lab[2],init_parameters())"
   ]
  },
  {
   "cell_type": "markdown",
   "metadata": {},
   "source": [
    "## 定义评估指标"
   ]
  },
  {
   "cell_type": "code",
   "execution_count": 28,
   "metadata": {},
   "outputs": [],
   "source": [
    "def valid_loss(parameters):\n",
    "    loss_accu=0\n",
    "    for img_i in range(valid_num):\n",
    "        loss_accu+=sqr_loss(valid_img[img_i],valid_lab[img_i],parameters)\n",
    "    return loss_accu/(valid_num/10000)\n",
    "def valid_accuracy(parameters):\n",
    "    correct=[predict(valid_img[img_i],parameters).argmax()==valid_lab[img_i] for img_i in range(valid_num)]\n",
    "    return correct.count(True)/len(correct)\n",
    "def train_loss(parameters):\n",
    "    loss_accu=0\n",
    "    for img_i in range(train_num):\n",
    "        loss_accu+=sqr_loss(train_img[img_i],train_lab[img_i],parameters)\n",
    "    return loss_accu/(train_num/10000)\n",
    "def train_accuracy(parameters):\n",
    "    correct=[predict(train_img[img_i],parameters).argmax()==train_lab[img_i] for img_i in range(train_num)]\n",
    "    return correct.count(True)/len(correct)"
   ]
  },
  {
   "cell_type": "code",
   "execution_count": 23,
   "metadata": {},
   "outputs": [
    {
     "data": {
      "text/plain": [
       "13449.21139711269"
      ]
     },
     "execution_count": 23,
     "metadata": {},
     "output_type": "execute_result"
    }
   ],
   "source": [
    "valid_loss(parameters)"
   ]
  },
  {
   "cell_type": "code",
   "execution_count": 24,
   "metadata": {},
   "outputs": [
    {
     "data": {
      "text/plain": [
       "0.0597"
      ]
     },
     "execution_count": 24,
     "metadata": {},
     "output_type": "execute_result"
    }
   ],
   "source": [
    "valid_accuracy(init_parameters())"
   ]
  },
  {
   "cell_type": "markdown",
   "metadata": {},
   "source": [
    "## 实现梯度下降"
   ]
  },
  {
   "cell_type": "code",
   "execution_count": 29,
   "metadata": {},
   "outputs": [],
   "source": [
    "#把一百张图片的所有梯度全部累加起来，最后求平均梯度\n",
    "batch_size=100\n",
    "def train_batch(current_batch,parameters):\n",
    "    grad_accu=grad_parameters(train_img[current_batch*batch_size+0],train_lab[current_batch*batch_size+0],parameters)\n",
    "    for img_i in range(1,batch_size):\n",
    "        grad_tmp=grad_parameters(train_img[current_batch*batch_size+img_i],train_lab[current_batch*batch_size+img_i],parameters)\n",
    "        for key in grad_accu.keys():\n",
    "            grad_accu[key]+=grad_tmp[key]\n",
    "    for key in grad_accu.keys():\n",
    "        grad_accu[key]/=batch_size\n",
    "    return grad_accu"
   ]
  },
  {
   "cell_type": "code",
   "execution_count": 30,
   "metadata": {},
   "outputs": [
    {
     "data": {
      "text/plain": [
       "{'w1': array([[0., 0., 0., ..., 0., 0., 0.],\n",
       "        [0., 0., 0., ..., 0., 0., 0.],\n",
       "        [0., 0., 0., ..., 0., 0., 0.],\n",
       "        ...,\n",
       "        [0., 0., 0., ..., 0., 0., 0.],\n",
       "        [0., 0., 0., ..., 0., 0., 0.],\n",
       "        [0., 0., 0., ..., 0., 0., 0.]]),\n",
       " 'b1': array([ 0.00874219, -0.01276774, -0.0039926 ,  0.00363073, -0.00513142,\n",
       "        -0.00366867, -0.00018688, -0.00298586, -0.00433429,  0.02069452]),\n",
       " 'b0': array([-1.81850276e-02, -1.02207308e-02,  1.92651876e-02, -1.73566285e-04,\n",
       "        -2.51735358e-02,  1.11499073e-04,  3.24630464e-03,  2.30367597e-03,\n",
       "         2.52798278e-02,  8.58259912e-03, -9.13023585e-03, -1.41069236e-03,\n",
       "        -7.47181937e-03, -1.23543160e-02,  1.02901466e-02,  1.34940544e-02,\n",
       "        -5.25398869e-03,  1.78741544e-02,  1.93491484e-02, -3.21426702e-03,\n",
       "         1.76287480e-02,  6.60648604e-03, -1.68483598e-02, -2.25979727e-02,\n",
       "         1.63509321e-02,  2.28653300e-02, -2.71663969e-02, -1.36178843e-02,\n",
       "         6.61943136e-03, -1.24898025e-02,  2.02470048e-02, -2.75519002e-02,\n",
       "         1.99576112e-02,  5.73842661e-03,  1.51042856e-02,  2.22187069e-03,\n",
       "         3.19924791e-03,  9.40312841e-03, -6.18120987e-03, -1.88375653e-02,\n",
       "         9.88513835e-03,  2.65665341e-02, -3.39982232e-02, -5.39427791e-03,\n",
       "        -1.69039775e-02, -1.17710716e-02, -2.03324662e-02,  1.22990256e-02,\n",
       "        -1.27431218e-03, -2.57216418e-03, -2.35066095e-02,  2.06949849e-02,\n",
       "         1.28462450e-05, -2.71874349e-02, -4.44005121e-03,  1.29355537e-02,\n",
       "         2.14012699e-02, -3.53772047e-02, -1.41490826e-02,  5.82872609e-03,\n",
       "        -2.11445879e-02,  2.47414295e-02, -1.25512639e-02, -8.35500585e-03,\n",
       "        -6.30288090e-03, -2.41753678e-02, -1.20534616e-02,  4.50174303e-02,\n",
       "        -1.02693615e-02,  2.84576518e-03, -1.98017337e-02, -1.85713619e-02,\n",
       "        -1.16799730e-03,  2.40648394e-02, -1.49707008e-02, -1.11177521e-02,\n",
       "         1.00729583e-02, -6.58962163e-03,  8.29815056e-03, -1.40717413e-02,\n",
       "        -1.89527338e-03, -3.08272467e-02,  7.56946878e-04, -1.83021211e-02,\n",
       "        -5.10181167e-03, -8.90139968e-03,  3.39158065e-03, -4.14293108e-03,\n",
       "        -1.65883341e-02,  2.18198280e-02, -1.73580050e-04,  1.34220951e-02,\n",
       "        -2.06624491e-02,  6.77578162e-04, -1.23652105e-02, -1.53352132e-02,\n",
       "        -1.64415353e-02, -3.76743127e-02,  7.28555788e-03,  2.44743476e-02,\n",
       "         8.08190003e-03, -7.15307777e-03,  4.37138033e-03,  3.75247750e-02,\n",
       "         1.32874019e-03, -2.06629243e-02,  3.03029421e-02,  2.54412491e-02,\n",
       "         1.53586865e-03,  1.18744891e-02, -1.86080851e-02, -2.96396757e-04,\n",
       "        -8.48814417e-03,  2.40855159e-03, -8.58266235e-03,  1.80165261e-03,\n",
       "         2.98898696e-02,  3.66381166e-03, -1.64164426e-02, -1.15867988e-02,\n",
       "        -3.73290503e-03, -1.50595935e-02, -5.38546132e-03, -1.65107712e-03,\n",
       "         1.27087108e-02,  1.67163083e-02, -2.92298600e-02, -1.71074862e-02,\n",
       "        -3.56279746e-03,  1.38644430e-02,  8.46542245e-03,  3.25373135e-03,\n",
       "         9.04922181e-04, -1.12420868e-02,  8.83821750e-03, -1.84763894e-02,\n",
       "         1.51961807e-02,  1.03121429e-02, -2.68033768e-03, -4.21948909e-03,\n",
       "        -4.09985544e-03,  9.32314259e-05, -3.56009158e-02, -1.61415711e-02,\n",
       "        -1.18016365e-02,  4.65855248e-04, -5.87218822e-03,  2.32569635e-02,\n",
       "         1.63041195e-02,  6.66291467e-04, -3.30558208e-02,  8.88470234e-03,\n",
       "         7.61715863e-03,  7.30861097e-03,  1.03705124e-02, -8.26844401e-03,\n",
       "        -1.31754924e-02, -1.52287522e-02, -2.67378186e-02, -4.29072622e-03,\n",
       "         1.56812536e-02,  2.01288312e-02,  2.90452675e-02, -2.18333143e-02,\n",
       "        -4.83494679e-03,  1.80165633e-03,  1.50717644e-02, -2.89756208e-02,\n",
       "        -9.65815850e-03, -1.03097972e-02,  2.19368169e-02, -3.17035854e-02,\n",
       "        -9.22320078e-03, -2.07723353e-02,  1.07143239e-03, -2.71335551e-02,\n",
       "        -1.46494947e-02,  6.99114159e-03, -4.17784097e-04,  2.79678255e-02,\n",
       "         1.67750509e-02,  7.54229391e-03, -3.16549285e-03,  1.82515884e-02,\n",
       "        -1.56555614e-02,  1.26436995e-02, -8.41236840e-03, -8.30101636e-03,\n",
       "        -1.47393694e-03,  1.15783416e-02,  2.21905253e-02, -1.47491975e-03,\n",
       "         2.23629440e-02,  2.04184748e-04, -1.73535365e-02,  1.01882539e-02,\n",
       "         2.91247930e-02, -3.43359488e-02, -8.70868842e-03, -3.04738317e-02,\n",
       "         3.82854893e-03, -1.32077913e-02,  3.03974381e-02,  1.68672904e-02,\n",
       "        -3.46660569e-04,  2.32463935e-02, -1.44146063e-02,  9.88719549e-03,\n",
       "         5.27531051e-04,  1.04608604e-02,  6.12001568e-03, -8.05522127e-03,\n",
       "        -1.03704164e-02,  5.87100144e-03, -1.59536234e-02,  5.94887249e-03,\n",
       "        -1.00655523e-03, -9.07783078e-03,  3.50310317e-04,  9.46891823e-04,\n",
       "        -1.35600103e-03,  6.09547361e-03,  2.21181025e-02, -5.66638239e-03,\n",
       "        -1.29411259e-02, -2.37541965e-02,  1.56017694e-02,  1.15124877e-02,\n",
       "        -1.03532524e-02,  2.40775342e-02,  8.00722632e-03,  1.21338000e-02,\n",
       "         6.71425692e-03,  2.24376897e-02, -2.81978480e-02, -3.43461576e-02,\n",
       "         1.24991718e-02, -3.87872801e-03,  2.58230913e-02,  1.61748076e-02,\n",
       "         5.74648673e-03, -1.89199371e-03,  7.88219817e-04, -1.04328750e-02,\n",
       "        -1.85656960e-02, -3.86154837e-03,  1.11059139e-02,  2.23410079e-02,\n",
       "        -1.63678136e-02,  2.75133765e-02,  2.54761815e-02,  6.76675882e-03,\n",
       "         7.79330062e-03, -1.77178377e-02, -1.55322934e-02,  2.27565323e-03,\n",
       "        -5.86819484e-03,  3.90160367e-03, -2.17779953e-02, -1.59979816e-02,\n",
       "        -1.14347033e-02,  1.96318552e-02, -7.87911170e-03, -9.01050329e-03,\n",
       "        -2.29402380e-03, -2.10107457e-02,  1.85590346e-02,  2.35125756e-03,\n",
       "         3.32463300e-03,  9.40352994e-03,  1.75965471e-02,  9.94026469e-03,\n",
       "        -1.49028195e-03,  1.52103965e-02,  1.53162949e-03, -2.93546992e-02,\n",
       "        -3.82556818e-03,  2.08498540e-02, -1.89360341e-02,  2.55117540e-03,\n",
       "        -5.27358766e-03, -2.77486793e-02, -2.24587061e-02,  9.19385717e-03,\n",
       "        -2.24331133e-02, -5.56127236e-04, -2.86997386e-03,  1.55346846e-02,\n",
       "         1.23255316e-02, -2.99733856e-02, -1.05376363e-02, -5.90937884e-03,\n",
       "        -1.21032650e-02,  1.15787626e-02,  1.27656859e-02, -1.73822887e-03,\n",
       "         4.04149547e-03,  6.16656057e-03,  7.36859308e-03, -4.73503468e-03,\n",
       "        -3.02747809e-03,  1.62770462e-02, -3.01004095e-02,  7.70433023e-03,\n",
       "         1.83317842e-03,  2.37688866e-02,  1.41327837e-03, -1.10804860e-02,\n",
       "         1.76664113e-02,  8.85305734e-03,  5.21817594e-03, -3.51433682e-03,\n",
       "         7.99481831e-03,  1.44311793e-02, -8.17592865e-03,  5.16654255e-03,\n",
       "         4.15105133e-03, -8.29125055e-03,  7.19376919e-04, -2.04768023e-02,\n",
       "         8.56333458e-03,  1.84702170e-03,  2.83008016e-03, -3.87955103e-03,\n",
       "         1.00671014e-03,  1.69784534e-02, -1.48501892e-03, -2.11632142e-02,\n",
       "        -1.00418321e-02, -1.54274045e-02,  1.33930706e-02,  5.27459062e-03,\n",
       "        -1.85776840e-02,  1.42655812e-02,  2.08115539e-02, -1.09829777e-02,\n",
       "        -1.79734453e-02,  5.48555147e-03, -9.70775490e-03, -1.59334904e-02,\n",
       "         2.52496237e-02, -1.68921301e-02, -1.47082576e-02,  1.65466555e-02,\n",
       "         2.46862463e-02,  1.03043959e-02,  1.59933241e-04,  6.75382778e-03,\n",
       "         6.94038026e-03,  1.56885502e-02,  4.48524751e-03, -5.32740669e-05,\n",
       "        -1.88792218e-03,  6.70061665e-03,  1.05715991e-02, -1.69637070e-02,\n",
       "        -6.05912154e-03,  1.05660057e-02, -2.99139048e-02, -1.31513134e-02,\n",
       "        -6.91781052e-03,  3.04405099e-03,  1.49022769e-03, -1.16161828e-02,\n",
       "         3.12520258e-03,  1.53736282e-02,  3.25143610e-02, -2.32649600e-02,\n",
       "         1.95131178e-04,  1.09177829e-02, -1.40529361e-02,  2.51851096e-03,\n",
       "        -8.15679171e-03,  2.30846441e-02,  3.44752902e-03, -1.05138824e-02,\n",
       "        -8.58599370e-03, -1.64412259e-02, -2.23419544e-02,  1.84911086e-02,\n",
       "        -1.66608794e-02, -2.14146219e-02, -1.57583213e-02, -5.87072863e-03,\n",
       "         6.20633089e-03,  1.52652646e-02,  1.81530711e-03, -9.72098527e-03,\n",
       "         9.65290037e-03, -1.70338700e-03, -1.47993975e-02, -1.74849469e-03,\n",
       "        -2.56290789e-02, -2.77018124e-03, -1.77777364e-02, -3.79209268e-02,\n",
       "         9.15752054e-04, -2.25860522e-02,  3.40437504e-02,  2.01527070e-02,\n",
       "        -3.29548788e-02,  6.02176131e-03,  1.51614754e-02, -6.19088745e-03,\n",
       "        -2.50577978e-02,  6.52160346e-03, -1.94506870e-02, -3.35448220e-03,\n",
       "         1.09776238e-02,  2.00424677e-03, -8.31660794e-03, -6.33920317e-03,\n",
       "         1.39652646e-02, -9.58814505e-03, -6.26664486e-03, -9.44378093e-03,\n",
       "        -2.97977430e-02,  9.58495506e-04, -3.06341474e-02,  7.73108262e-04,\n",
       "        -1.95556878e-02, -1.50897297e-02,  2.59762656e-02,  1.63102544e-02,\n",
       "         1.00287313e-02,  2.31045736e-02, -1.30199124e-02, -1.23393028e-02,\n",
       "        -1.14964440e-02, -8.92567776e-03,  3.54596202e-03, -1.22898768e-02,\n",
       "        -1.05103946e-02,  2.11352205e-02,  1.29229719e-02, -1.74195115e-02,\n",
       "         3.85784213e-03, -4.39968831e-05,  1.07937318e-02,  1.44217389e-02,\n",
       "        -1.21961399e-04,  1.92934420e-02, -1.44721215e-03, -1.75679373e-02,\n",
       "        -5.78313588e-04,  4.06989195e-03,  3.81031081e-03,  6.51375580e-03,\n",
       "         2.86386264e-03,  1.32104189e-02, -1.70162535e-02,  3.21981211e-02,\n",
       "        -4.66341665e-03,  3.10865739e-03, -2.13275737e-02,  1.27300439e-02,\n",
       "        -4.16209905e-03,  1.22623423e-02,  2.29466687e-02, -2.41574897e-02,\n",
       "        -1.56394879e-02,  9.54214121e-03, -1.60001123e-02,  1.14138232e-02,\n",
       "        -1.87050114e-02,  2.32028194e-02,  6.63587457e-04,  1.35911547e-02,\n",
       "        -2.80692670e-02, -2.59568439e-03,  3.77767666e-03, -1.23585679e-02,\n",
       "         1.66108690e-02, -1.89701531e-03, -3.47974705e-03,  1.88938633e-02,\n",
       "         1.35527035e-03, -9.45079480e-03, -4.64897407e-03, -3.10898339e-03,\n",
       "        -9.48828070e-03, -4.42964393e-03,  2.17851991e-02, -7.44776046e-03,\n",
       "         1.83932561e-03,  8.43450088e-03,  7.57054916e-03,  1.67712447e-02,\n",
       "        -1.06333906e-02,  1.16447847e-02, -8.99272308e-03,  6.43299582e-03,\n",
       "         9.70751548e-03,  4.15826271e-03,  1.54644138e-02,  1.58908072e-02,\n",
       "        -5.93204145e-03,  1.41742287e-02,  2.15613730e-03, -6.57274508e-03,\n",
       "        -3.85521562e-05, -5.45921757e-03, -4.68141900e-03, -1.20878511e-02,\n",
       "        -2.18333708e-02,  1.07095783e-02,  2.85082309e-03, -1.44099925e-02,\n",
       "         1.92452779e-02,  1.33946206e-02,  1.59321657e-02,  7.22729356e-03,\n",
       "         7.13808700e-03, -8.53577945e-03,  2.87606564e-03, -9.55247077e-03,\n",
       "         6.19929082e-03,  2.56621663e-03,  1.41021830e-02,  9.66187096e-05,\n",
       "         7.14270597e-03,  1.10724135e-02, -8.94955578e-03,  2.85962124e-02,\n",
       "         2.70728450e-03, -5.55305113e-03,  3.66001276e-02, -1.03490830e-02,\n",
       "         4.27688263e-03, -1.51474522e-02,  1.91745765e-02,  3.66357558e-02,\n",
       "        -1.17664212e-02, -2.03329395e-02,  3.03860115e-03, -2.19084895e-02,\n",
       "         1.97724272e-02,  4.08504769e-02,  1.94055543e-03,  6.40467239e-03,\n",
       "         1.30649472e-02, -1.84769462e-03, -8.19333834e-03, -1.46989660e-02,\n",
       "         1.37449638e-03,  8.73081594e-03, -9.89546569e-03,  1.90245156e-02,\n",
       "         1.55326102e-02,  1.79062971e-02,  1.93855315e-02, -1.62112884e-02,\n",
       "         2.40645705e-04,  5.34132055e-03,  1.02909848e-02, -9.70339496e-03,\n",
       "        -9.27945394e-03, -2.05045070e-02, -3.90619425e-02, -6.39688799e-03,\n",
       "         2.62859798e-02,  4.71073668e-03, -2.46328928e-02, -2.09537537e-02,\n",
       "         4.29074358e-03,  1.04105871e-02,  9.83361570e-03,  1.17487449e-02,\n",
       "         1.76436233e-02,  2.23583608e-02, -2.52313287e-04, -6.08784083e-03,\n",
       "         8.26711756e-03,  4.21638954e-03,  1.36204829e-02,  6.39406275e-03,\n",
       "        -7.24816839e-03, -1.94992253e-02,  1.91331708e-02,  4.03526844e-04,\n",
       "         4.73900075e-03, -4.35442932e-03, -2.43419482e-02,  3.35988904e-02,\n",
       "         1.54673204e-02,  8.82000614e-03, -4.26268989e-03, -2.25642406e-02,\n",
       "        -1.53595376e-02,  2.23482214e-02,  1.89911644e-02, -2.19672369e-03,\n",
       "        -8.29696669e-03,  1.22565075e-02, -1.36254831e-03, -3.42291712e-03,\n",
       "        -3.75890738e-03, -8.71441709e-04, -7.50583394e-03, -3.87713497e-03,\n",
       "         9.17210916e-03, -5.69676623e-03, -1.54936250e-03,  7.19589980e-03,\n",
       "         8.35451311e-03,  3.76515651e-02, -1.40571330e-03, -1.75343394e-02,\n",
       "        -5.62906708e-03, -1.69540984e-02,  4.41819937e-03, -1.28169876e-02,\n",
       "        -9.79864254e-03,  8.24883981e-03, -2.07462240e-02, -2.95925329e-03,\n",
       "        -1.22753871e-02, -1.67343139e-02,  3.93666006e-04, -2.00416780e-02,\n",
       "        -6.19750859e-03,  3.13856970e-02,  1.68313544e-02, -1.11294247e-02,\n",
       "         2.21961101e-02,  2.59367301e-03,  5.04374652e-03, -5.63917038e-03,\n",
       "        -2.50165520e-02,  2.61504544e-02,  7.43505201e-03, -1.38852738e-02,\n",
       "        -1.31670390e-03, -1.47680774e-02,  3.06303695e-02, -8.55050959e-03,\n",
       "        -1.08329013e-02, -1.95382515e-02, -9.42550255e-04, -1.60498965e-02,\n",
       "         3.49009253e-02, -1.88457753e-02,  1.36783820e-02,  1.12295650e-02,\n",
       "        -1.20778110e-02, -2.06990679e-02,  6.42669849e-03,  2.49196794e-03,\n",
       "         2.83110820e-02, -1.15624053e-02,  1.90699018e-02, -5.11870599e-03,\n",
       "         4.64033016e-03,  1.60595266e-02,  1.11838182e-02,  2.61644217e-02,\n",
       "         7.63487939e-03,  2.17001648e-03, -5.48432079e-03, -1.76681457e-02,\n",
       "        -7.52673486e-03, -2.12919236e-02, -9.20245898e-03,  1.53584687e-02,\n",
       "        -2.17850789e-03,  1.11433017e-02,  1.00331254e-02, -2.18201137e-02,\n",
       "        -3.58532052e-03, -1.31371356e-02, -5.05940542e-03, -5.49524304e-03,\n",
       "         6.36161616e-03,  2.35898636e-03, -8.58629951e-04,  1.25345581e-02,\n",
       "        -7.32330142e-03,  8.01829602e-03, -2.33941847e-02,  1.30427581e-02,\n",
       "         1.31123325e-02, -1.06824599e-02,  4.87135446e-03, -1.71410198e-03,\n",
       "         5.79637736e-03,  3.51314365e-03,  1.26704397e-03,  4.80440047e-03,\n",
       "         8.08578084e-03, -1.71680710e-03,  3.78036014e-02,  2.23250481e-02,\n",
       "        -5.53760003e-03, -9.58135202e-03,  7.14037950e-03,  2.71876642e-02,\n",
       "        -1.35303031e-02, -5.27603105e-03,  2.16145890e-02, -1.91192475e-02,\n",
       "         1.02876346e-02, -8.44387744e-03,  1.38624081e-02, -5.81178747e-03,\n",
       "         1.11824461e-02,  1.99296756e-02,  2.82338463e-02,  1.61478774e-02,\n",
       "        -2.97667043e-02, -1.79175141e-02, -1.87410127e-02, -1.35500539e-02,\n",
       "        -1.18010099e-02,  7.68407213e-03,  8.93918297e-03, -2.16243598e-02,\n",
       "         1.07390385e-02,  1.27533826e-02,  1.95166654e-02, -2.12085171e-02,\n",
       "         1.71691637e-03,  2.27710604e-02, -2.67563135e-02,  1.56455575e-03,\n",
       "         2.55223222e-04, -1.01001613e-02, -2.63520955e-02, -5.63463962e-03,\n",
       "        -1.01783133e-02,  7.10740710e-03, -5.26512283e-03,  4.85465028e-03,\n",
       "        -1.40674795e-02,  1.16313690e-03, -2.09984099e-02, -6.22458336e-03,\n",
       "        -6.92156622e-03, -5.53606606e-03, -7.43552186e-03,  2.70518939e-03,\n",
       "        -7.64897145e-03, -1.09089379e-02, -3.85400329e-04,  1.00578039e-04,\n",
       "        -1.83672166e-02, -1.04791374e-02,  1.03584027e-02,  2.65836146e-02,\n",
       "        -1.38070868e-02, -1.19527305e-02, -6.24446638e-03,  7.57786385e-03,\n",
       "        -9.18172210e-03,  1.11466837e-02,  7.26398292e-03,  1.37545835e-02,\n",
       "         1.02583189e-03,  2.40698943e-03, -4.17560582e-03, -5.44995471e-03,\n",
       "         6.59472419e-03,  3.23606599e-03,  1.05932346e-02, -1.34567405e-02,\n",
       "         2.60437436e-02, -9.94610792e-04, -4.07283711e-03,  1.75043528e-02,\n",
       "        -1.23134961e-02,  2.02994597e-02, -3.28857512e-03, -3.87318321e-02,\n",
       "         3.20513469e-02, -1.41324106e-03, -1.46700729e-02,  3.19523655e-02,\n",
       "        -1.16992097e-02, -3.08233893e-02, -2.48563681e-02, -1.64208125e-02,\n",
       "        -1.93756760e-03,  3.14812740e-02, -1.15374709e-02,  5.30463508e-03])}"
      ]
     },
     "execution_count": 30,
     "metadata": {},
     "output_type": "execute_result"
    }
   ],
   "source": [
    "#测试一个batch中所有图片的平均梯度\n",
    "train_batch(0,parameters)"
   ]
  },
  {
   "cell_type": "code",
   "execution_count": 31,
   "metadata": {},
   "outputs": [],
   "source": [
    "#将得到的梯度累加到初始化的参数上，实现梯度下降算法(参数更新)\n",
    "import copy\n",
    "def combine_parameters(parameters,grad,learn_rate):\n",
    "    parameter_tmp=copy.deepcopy(parameters)\n",
    "    parameter_tmp[0]['b']-=learn_rate*grad['b0']\n",
    "    parameter_tmp[1]['b']-=learn_rate*grad['b1']\n",
    "    parameter_tmp[1]['w']-=learn_rate*grad['w1']\n",
    "    return parameter_tmp"
   ]
  },
  {
   "cell_type": "code",
   "execution_count": 32,
   "metadata": {},
   "outputs": [
    {
     "data": {
      "text/plain": [
       "[{'b': array([ 1.81850276e-02,  1.02207308e-02, -1.92651876e-02,  1.73566285e-04,\n",
       "          2.51735358e-02, -1.11499073e-04, -3.24630464e-03, -2.30367597e-03,\n",
       "         -2.52798278e-02, -8.58259912e-03,  9.13023585e-03,  1.41069236e-03,\n",
       "          7.47181937e-03,  1.23543160e-02, -1.02901466e-02, -1.34940544e-02,\n",
       "          5.25398869e-03, -1.78741544e-02, -1.93491484e-02,  3.21426702e-03,\n",
       "         -1.76287480e-02, -6.60648604e-03,  1.68483598e-02,  2.25979727e-02,\n",
       "         -1.63509321e-02, -2.28653300e-02,  2.71663969e-02,  1.36178843e-02,\n",
       "         -6.61943136e-03,  1.24898025e-02, -2.02470048e-02,  2.75519002e-02,\n",
       "         -1.99576112e-02, -5.73842661e-03, -1.51042856e-02, -2.22187069e-03,\n",
       "         -3.19924791e-03, -9.40312841e-03,  6.18120987e-03,  1.88375653e-02,\n",
       "         -9.88513835e-03, -2.65665341e-02,  3.39982232e-02,  5.39427791e-03,\n",
       "          1.69039775e-02,  1.17710716e-02,  2.03324662e-02, -1.22990256e-02,\n",
       "          1.27431218e-03,  2.57216418e-03,  2.35066095e-02, -2.06949849e-02,\n",
       "         -1.28462450e-05,  2.71874349e-02,  4.44005121e-03, -1.29355537e-02,\n",
       "         -2.14012699e-02,  3.53772047e-02,  1.41490826e-02, -5.82872609e-03,\n",
       "          2.11445879e-02, -2.47414295e-02,  1.25512639e-02,  8.35500585e-03,\n",
       "          6.30288090e-03,  2.41753678e-02,  1.20534616e-02, -4.50174303e-02,\n",
       "          1.02693615e-02, -2.84576518e-03,  1.98017337e-02,  1.85713619e-02,\n",
       "          1.16799730e-03, -2.40648394e-02,  1.49707008e-02,  1.11177521e-02,\n",
       "         -1.00729583e-02,  6.58962163e-03, -8.29815056e-03,  1.40717413e-02,\n",
       "          1.89527338e-03,  3.08272467e-02, -7.56946878e-04,  1.83021211e-02,\n",
       "          5.10181167e-03,  8.90139968e-03, -3.39158065e-03,  4.14293108e-03,\n",
       "          1.65883341e-02, -2.18198280e-02,  1.73580050e-04, -1.34220951e-02,\n",
       "          2.06624491e-02, -6.77578162e-04,  1.23652105e-02,  1.53352132e-02,\n",
       "          1.64415353e-02,  3.76743127e-02, -7.28555788e-03, -2.44743476e-02,\n",
       "         -8.08190003e-03,  7.15307777e-03, -4.37138033e-03, -3.75247750e-02,\n",
       "         -1.32874019e-03,  2.06629243e-02, -3.03029421e-02, -2.54412491e-02,\n",
       "         -1.53586865e-03, -1.18744891e-02,  1.86080851e-02,  2.96396757e-04,\n",
       "          8.48814417e-03, -2.40855159e-03,  8.58266235e-03, -1.80165261e-03,\n",
       "         -2.98898696e-02, -3.66381166e-03,  1.64164426e-02,  1.15867988e-02,\n",
       "          3.73290503e-03,  1.50595935e-02,  5.38546132e-03,  1.65107712e-03,\n",
       "         -1.27087108e-02, -1.67163083e-02,  2.92298600e-02,  1.71074862e-02,\n",
       "          3.56279746e-03, -1.38644430e-02, -8.46542245e-03, -3.25373135e-03,\n",
       "         -9.04922181e-04,  1.12420868e-02, -8.83821750e-03,  1.84763894e-02,\n",
       "         -1.51961807e-02, -1.03121429e-02,  2.68033768e-03,  4.21948909e-03,\n",
       "          4.09985544e-03, -9.32314259e-05,  3.56009158e-02,  1.61415711e-02,\n",
       "          1.18016365e-02, -4.65855248e-04,  5.87218822e-03, -2.32569635e-02,\n",
       "         -1.63041195e-02, -6.66291467e-04,  3.30558208e-02, -8.88470234e-03,\n",
       "         -7.61715863e-03, -7.30861097e-03, -1.03705124e-02,  8.26844401e-03,\n",
       "          1.31754924e-02,  1.52287522e-02,  2.67378186e-02,  4.29072622e-03,\n",
       "         -1.56812536e-02, -2.01288312e-02, -2.90452675e-02,  2.18333143e-02,\n",
       "          4.83494679e-03, -1.80165633e-03, -1.50717644e-02,  2.89756208e-02,\n",
       "          9.65815850e-03,  1.03097972e-02, -2.19368169e-02,  3.17035854e-02,\n",
       "          9.22320078e-03,  2.07723353e-02, -1.07143239e-03,  2.71335551e-02,\n",
       "          1.46494947e-02, -6.99114159e-03,  4.17784097e-04, -2.79678255e-02,\n",
       "         -1.67750509e-02, -7.54229391e-03,  3.16549285e-03, -1.82515884e-02,\n",
       "          1.56555614e-02, -1.26436995e-02,  8.41236840e-03,  8.30101636e-03,\n",
       "          1.47393694e-03, -1.15783416e-02, -2.21905253e-02,  1.47491975e-03,\n",
       "         -2.23629440e-02, -2.04184748e-04,  1.73535365e-02, -1.01882539e-02,\n",
       "         -2.91247930e-02,  3.43359488e-02,  8.70868842e-03,  3.04738317e-02,\n",
       "         -3.82854893e-03,  1.32077913e-02, -3.03974381e-02, -1.68672904e-02,\n",
       "          3.46660569e-04, -2.32463935e-02,  1.44146063e-02, -9.88719549e-03,\n",
       "         -5.27531051e-04, -1.04608604e-02, -6.12001568e-03,  8.05522127e-03,\n",
       "          1.03704164e-02, -5.87100144e-03,  1.59536234e-02, -5.94887249e-03,\n",
       "          1.00655523e-03,  9.07783078e-03, -3.50310317e-04, -9.46891823e-04,\n",
       "          1.35600103e-03, -6.09547361e-03, -2.21181025e-02,  5.66638239e-03,\n",
       "          1.29411259e-02,  2.37541965e-02, -1.56017694e-02, -1.15124877e-02,\n",
       "          1.03532524e-02, -2.40775342e-02, -8.00722632e-03, -1.21338000e-02,\n",
       "         -6.71425692e-03, -2.24376897e-02,  2.81978480e-02,  3.43461576e-02,\n",
       "         -1.24991718e-02,  3.87872801e-03, -2.58230913e-02, -1.61748076e-02,\n",
       "         -5.74648673e-03,  1.89199371e-03, -7.88219817e-04,  1.04328750e-02,\n",
       "          1.85656960e-02,  3.86154837e-03, -1.11059139e-02, -2.23410079e-02,\n",
       "          1.63678136e-02, -2.75133765e-02, -2.54761815e-02, -6.76675882e-03,\n",
       "         -7.79330062e-03,  1.77178377e-02,  1.55322934e-02, -2.27565323e-03,\n",
       "          5.86819484e-03, -3.90160367e-03,  2.17779953e-02,  1.59979816e-02,\n",
       "          1.14347033e-02, -1.96318552e-02,  7.87911170e-03,  9.01050329e-03,\n",
       "          2.29402380e-03,  2.10107457e-02, -1.85590346e-02, -2.35125756e-03,\n",
       "         -3.32463300e-03, -9.40352994e-03, -1.75965471e-02, -9.94026469e-03,\n",
       "          1.49028195e-03, -1.52103965e-02, -1.53162949e-03,  2.93546992e-02,\n",
       "          3.82556818e-03, -2.08498540e-02,  1.89360341e-02, -2.55117540e-03,\n",
       "          5.27358766e-03,  2.77486793e-02,  2.24587061e-02, -9.19385717e-03,\n",
       "          2.24331133e-02,  5.56127236e-04,  2.86997386e-03, -1.55346846e-02,\n",
       "         -1.23255316e-02,  2.99733856e-02,  1.05376363e-02,  5.90937884e-03,\n",
       "          1.21032650e-02, -1.15787626e-02, -1.27656859e-02,  1.73822887e-03,\n",
       "         -4.04149547e-03, -6.16656057e-03, -7.36859308e-03,  4.73503468e-03,\n",
       "          3.02747809e-03, -1.62770462e-02,  3.01004095e-02, -7.70433023e-03,\n",
       "         -1.83317842e-03, -2.37688866e-02, -1.41327837e-03,  1.10804860e-02,\n",
       "         -1.76664113e-02, -8.85305734e-03, -5.21817594e-03,  3.51433682e-03,\n",
       "         -7.99481831e-03, -1.44311793e-02,  8.17592865e-03, -5.16654255e-03,\n",
       "         -4.15105133e-03,  8.29125055e-03, -7.19376919e-04,  2.04768023e-02,\n",
       "         -8.56333458e-03, -1.84702170e-03, -2.83008016e-03,  3.87955103e-03,\n",
       "         -1.00671014e-03, -1.69784534e-02,  1.48501892e-03,  2.11632142e-02,\n",
       "          1.00418321e-02,  1.54274045e-02, -1.33930706e-02, -5.27459062e-03,\n",
       "          1.85776840e-02, -1.42655812e-02, -2.08115539e-02,  1.09829777e-02,\n",
       "          1.79734453e-02, -5.48555147e-03,  9.70775490e-03,  1.59334904e-02,\n",
       "         -2.52496237e-02,  1.68921301e-02,  1.47082576e-02, -1.65466555e-02,\n",
       "         -2.46862463e-02, -1.03043959e-02, -1.59933241e-04, -6.75382778e-03,\n",
       "         -6.94038026e-03, -1.56885502e-02, -4.48524751e-03,  5.32740669e-05,\n",
       "          1.88792218e-03, -6.70061665e-03, -1.05715991e-02,  1.69637070e-02,\n",
       "          6.05912154e-03, -1.05660057e-02,  2.99139048e-02,  1.31513134e-02,\n",
       "          6.91781052e-03, -3.04405099e-03, -1.49022769e-03,  1.16161828e-02,\n",
       "         -3.12520258e-03, -1.53736282e-02, -3.25143610e-02,  2.32649600e-02,\n",
       "         -1.95131178e-04, -1.09177829e-02,  1.40529361e-02, -2.51851096e-03,\n",
       "          8.15679171e-03, -2.30846441e-02, -3.44752902e-03,  1.05138824e-02,\n",
       "          8.58599370e-03,  1.64412259e-02,  2.23419544e-02, -1.84911086e-02,\n",
       "          1.66608794e-02,  2.14146219e-02,  1.57583213e-02,  5.87072863e-03,\n",
       "         -6.20633089e-03, -1.52652646e-02, -1.81530711e-03,  9.72098527e-03,\n",
       "         -9.65290037e-03,  1.70338700e-03,  1.47993975e-02,  1.74849469e-03,\n",
       "          2.56290789e-02,  2.77018124e-03,  1.77777364e-02,  3.79209268e-02,\n",
       "         -9.15752054e-04,  2.25860522e-02, -3.40437504e-02, -2.01527070e-02,\n",
       "          3.29548788e-02, -6.02176131e-03, -1.51614754e-02,  6.19088745e-03,\n",
       "          2.50577978e-02, -6.52160346e-03,  1.94506870e-02,  3.35448220e-03,\n",
       "         -1.09776238e-02, -2.00424677e-03,  8.31660794e-03,  6.33920317e-03,\n",
       "         -1.39652646e-02,  9.58814505e-03,  6.26664486e-03,  9.44378093e-03,\n",
       "          2.97977430e-02, -9.58495506e-04,  3.06341474e-02, -7.73108262e-04,\n",
       "          1.95556878e-02,  1.50897297e-02, -2.59762656e-02, -1.63102544e-02,\n",
       "         -1.00287313e-02, -2.31045736e-02,  1.30199124e-02,  1.23393028e-02,\n",
       "          1.14964440e-02,  8.92567776e-03, -3.54596202e-03,  1.22898768e-02,\n",
       "          1.05103946e-02, -2.11352205e-02, -1.29229719e-02,  1.74195115e-02,\n",
       "         -3.85784213e-03,  4.39968831e-05, -1.07937318e-02, -1.44217389e-02,\n",
       "          1.21961399e-04, -1.92934420e-02,  1.44721215e-03,  1.75679373e-02,\n",
       "          5.78313588e-04, -4.06989195e-03, -3.81031081e-03, -6.51375580e-03,\n",
       "         -2.86386264e-03, -1.32104189e-02,  1.70162535e-02, -3.21981211e-02,\n",
       "          4.66341665e-03, -3.10865739e-03,  2.13275737e-02, -1.27300439e-02,\n",
       "          4.16209905e-03, -1.22623423e-02, -2.29466687e-02,  2.41574897e-02,\n",
       "          1.56394879e-02, -9.54214121e-03,  1.60001123e-02, -1.14138232e-02,\n",
       "          1.87050114e-02, -2.32028194e-02, -6.63587457e-04, -1.35911547e-02,\n",
       "          2.80692670e-02,  2.59568439e-03, -3.77767666e-03,  1.23585679e-02,\n",
       "         -1.66108690e-02,  1.89701531e-03,  3.47974705e-03, -1.88938633e-02,\n",
       "         -1.35527035e-03,  9.45079480e-03,  4.64897407e-03,  3.10898339e-03,\n",
       "          9.48828070e-03,  4.42964393e-03, -2.17851991e-02,  7.44776046e-03,\n",
       "         -1.83932561e-03, -8.43450088e-03, -7.57054916e-03, -1.67712447e-02,\n",
       "          1.06333906e-02, -1.16447847e-02,  8.99272308e-03, -6.43299582e-03,\n",
       "         -9.70751548e-03, -4.15826271e-03, -1.54644138e-02, -1.58908072e-02,\n",
       "          5.93204145e-03, -1.41742287e-02, -2.15613730e-03,  6.57274508e-03,\n",
       "          3.85521562e-05,  5.45921757e-03,  4.68141900e-03,  1.20878511e-02,\n",
       "          2.18333708e-02, -1.07095783e-02, -2.85082309e-03,  1.44099925e-02,\n",
       "         -1.92452779e-02, -1.33946206e-02, -1.59321657e-02, -7.22729356e-03,\n",
       "         -7.13808700e-03,  8.53577945e-03, -2.87606564e-03,  9.55247077e-03,\n",
       "         -6.19929082e-03, -2.56621663e-03, -1.41021830e-02, -9.66187096e-05,\n",
       "         -7.14270597e-03, -1.10724135e-02,  8.94955578e-03, -2.85962124e-02,\n",
       "         -2.70728450e-03,  5.55305113e-03, -3.66001276e-02,  1.03490830e-02,\n",
       "         -4.27688263e-03,  1.51474522e-02, -1.91745765e-02, -3.66357558e-02,\n",
       "          1.17664212e-02,  2.03329395e-02, -3.03860115e-03,  2.19084895e-02,\n",
       "         -1.97724272e-02, -4.08504769e-02, -1.94055543e-03, -6.40467239e-03,\n",
       "         -1.30649472e-02,  1.84769462e-03,  8.19333834e-03,  1.46989660e-02,\n",
       "         -1.37449638e-03, -8.73081594e-03,  9.89546569e-03, -1.90245156e-02,\n",
       "         -1.55326102e-02, -1.79062971e-02, -1.93855315e-02,  1.62112884e-02,\n",
       "         -2.40645705e-04, -5.34132055e-03, -1.02909848e-02,  9.70339496e-03,\n",
       "          9.27945394e-03,  2.05045070e-02,  3.90619425e-02,  6.39688799e-03,\n",
       "         -2.62859798e-02, -4.71073668e-03,  2.46328928e-02,  2.09537537e-02,\n",
       "         -4.29074358e-03, -1.04105871e-02, -9.83361570e-03, -1.17487449e-02,\n",
       "         -1.76436233e-02, -2.23583608e-02,  2.52313287e-04,  6.08784083e-03,\n",
       "         -8.26711756e-03, -4.21638954e-03, -1.36204829e-02, -6.39406275e-03,\n",
       "          7.24816839e-03,  1.94992253e-02, -1.91331708e-02, -4.03526844e-04,\n",
       "         -4.73900075e-03,  4.35442932e-03,  2.43419482e-02, -3.35988904e-02,\n",
       "         -1.54673204e-02, -8.82000614e-03,  4.26268989e-03,  2.25642406e-02,\n",
       "          1.53595376e-02, -2.23482214e-02, -1.89911644e-02,  2.19672369e-03,\n",
       "          8.29696669e-03, -1.22565075e-02,  1.36254831e-03,  3.42291712e-03,\n",
       "          3.75890738e-03,  8.71441709e-04,  7.50583394e-03,  3.87713497e-03,\n",
       "         -9.17210916e-03,  5.69676623e-03,  1.54936250e-03, -7.19589980e-03,\n",
       "         -8.35451311e-03, -3.76515651e-02,  1.40571330e-03,  1.75343394e-02,\n",
       "          5.62906708e-03,  1.69540984e-02, -4.41819937e-03,  1.28169876e-02,\n",
       "          9.79864254e-03, -8.24883981e-03,  2.07462240e-02,  2.95925329e-03,\n",
       "          1.22753871e-02,  1.67343139e-02, -3.93666006e-04,  2.00416780e-02,\n",
       "          6.19750859e-03, -3.13856970e-02, -1.68313544e-02,  1.11294247e-02,\n",
       "         -2.21961101e-02, -2.59367301e-03, -5.04374652e-03,  5.63917038e-03,\n",
       "          2.50165520e-02, -2.61504544e-02, -7.43505201e-03,  1.38852738e-02,\n",
       "          1.31670390e-03,  1.47680774e-02, -3.06303695e-02,  8.55050959e-03,\n",
       "          1.08329013e-02,  1.95382515e-02,  9.42550255e-04,  1.60498965e-02,\n",
       "         -3.49009253e-02,  1.88457753e-02, -1.36783820e-02, -1.12295650e-02,\n",
       "          1.20778110e-02,  2.06990679e-02, -6.42669849e-03, -2.49196794e-03,\n",
       "         -2.83110820e-02,  1.15624053e-02, -1.90699018e-02,  5.11870599e-03,\n",
       "         -4.64033016e-03, -1.60595266e-02, -1.11838182e-02, -2.61644217e-02,\n",
       "         -7.63487939e-03, -2.17001648e-03,  5.48432079e-03,  1.76681457e-02,\n",
       "          7.52673486e-03,  2.12919236e-02,  9.20245898e-03, -1.53584687e-02,\n",
       "          2.17850789e-03, -1.11433017e-02, -1.00331254e-02,  2.18201137e-02,\n",
       "          3.58532052e-03,  1.31371356e-02,  5.05940542e-03,  5.49524304e-03,\n",
       "         -6.36161616e-03, -2.35898636e-03,  8.58629951e-04, -1.25345581e-02,\n",
       "          7.32330142e-03, -8.01829602e-03,  2.33941847e-02, -1.30427581e-02,\n",
       "         -1.31123325e-02,  1.06824599e-02, -4.87135446e-03,  1.71410198e-03,\n",
       "         -5.79637736e-03, -3.51314365e-03, -1.26704397e-03, -4.80440047e-03,\n",
       "         -8.08578084e-03,  1.71680710e-03, -3.78036014e-02, -2.23250481e-02,\n",
       "          5.53760003e-03,  9.58135202e-03, -7.14037950e-03, -2.71876642e-02,\n",
       "          1.35303031e-02,  5.27603105e-03, -2.16145890e-02,  1.91192475e-02,\n",
       "         -1.02876346e-02,  8.44387744e-03, -1.38624081e-02,  5.81178747e-03,\n",
       "         -1.11824461e-02, -1.99296756e-02, -2.82338463e-02, -1.61478774e-02,\n",
       "          2.97667043e-02,  1.79175141e-02,  1.87410127e-02,  1.35500539e-02,\n",
       "          1.18010099e-02, -7.68407213e-03, -8.93918297e-03,  2.16243598e-02,\n",
       "         -1.07390385e-02, -1.27533826e-02, -1.95166654e-02,  2.12085171e-02,\n",
       "         -1.71691637e-03, -2.27710604e-02,  2.67563135e-02, -1.56455575e-03,\n",
       "         -2.55223222e-04,  1.01001613e-02,  2.63520955e-02,  5.63463962e-03,\n",
       "          1.01783133e-02, -7.10740710e-03,  5.26512283e-03, -4.85465028e-03,\n",
       "          1.40674795e-02, -1.16313690e-03,  2.09984099e-02,  6.22458336e-03,\n",
       "          6.92156622e-03,  5.53606606e-03,  7.43552186e-03, -2.70518939e-03,\n",
       "          7.64897145e-03,  1.09089379e-02,  3.85400329e-04, -1.00578039e-04,\n",
       "          1.83672166e-02,  1.04791374e-02, -1.03584027e-02, -2.65836146e-02,\n",
       "          1.38070868e-02,  1.19527305e-02,  6.24446638e-03, -7.57786385e-03,\n",
       "          9.18172210e-03, -1.11466837e-02, -7.26398292e-03, -1.37545835e-02,\n",
       "         -1.02583189e-03, -2.40698943e-03,  4.17560582e-03,  5.44995471e-03,\n",
       "         -6.59472419e-03, -3.23606599e-03, -1.05932346e-02,  1.34567405e-02,\n",
       "         -2.60437436e-02,  9.94610792e-04,  4.07283711e-03, -1.75043528e-02,\n",
       "          1.23134961e-02, -2.02994597e-02,  3.28857512e-03,  3.87318321e-02,\n",
       "         -3.20513469e-02,  1.41324106e-03,  1.46700729e-02, -3.19523655e-02,\n",
       "          1.16992097e-02,  3.08233893e-02,  2.48563681e-02,  1.64208125e-02,\n",
       "          1.93756760e-03, -3.14812740e-02,  1.15374709e-02, -5.30463508e-03])},\n",
       " {'b': array([-0.00874219,  0.01276774,  0.0039926 , -0.00363073,  0.00513142,\n",
       "          0.00366867,  0.00018688,  0.00298586,  0.00433429, -0.02069452]),\n",
       "  'w': array([[-0.95615812, -0.43317597,  0.15493302, ...,  0.31348114,\n",
       "          -0.12334437, -0.41878521],\n",
       "         [ 0.06630813, -0.41326932, -0.68701094, ...,  0.07242395,\n",
       "          -0.55672282, -0.91498898],\n",
       "         [ 0.99893773,  0.49811063, -0.01394301, ..., -0.92190644,\n",
       "          -0.20854731,  0.85486548],\n",
       "         ...,\n",
       "         [ 0.90598008, -0.15078353, -0.43566173, ..., -0.89967478,\n",
       "           0.15778581,  0.69684675],\n",
       "         [ 0.41632167,  0.14086679,  0.8657559 , ...,  0.93434529,\n",
       "           0.89189412, -0.19703629],\n",
       "         [ 0.94907124, -0.7640309 , -0.58454628, ...,  0.49856197,\n",
       "           0.53954916, -0.60953261]])}]"
      ]
     },
     "execution_count": 32,
     "metadata": {},
     "output_type": "execute_result"
    }
   ],
   "source": [
    "#测试梯度下降\n",
    "combine_parameters(parameters,train_batch(0,parameters),1)"
   ]
  },
  {
   "cell_type": "markdown",
   "metadata": {},
   "source": [
    "## 定义训练模型部分"
   ]
  },
  {
   "cell_type": "code",
   "execution_count": 49,
   "metadata": {},
   "outputs": [],
   "source": [
    "parameters=init_parameters()\n",
    "current_epoch=0\n",
    "train_loss_list=[]\n",
    "valid_loss_list=[]\n",
    "train_accu_list=[]\n",
    "valid_accu_list=[]"
   ]
  },
  {
   "cell_type": "code",
   "execution_count": 50,
   "metadata": {},
   "outputs": [
    {
     "data": {
      "text/plain": [
       "0.1233"
      ]
     },
     "execution_count": 50,
     "metadata": {},
     "output_type": "execute_result"
    }
   ],
   "source": [
    "valid_accuracy(parameters)"
   ]
  },
  {
   "cell_type": "code",
   "execution_count": 51,
   "metadata": {},
   "outputs": [
    {
     "name": "stdout",
     "output_type": "stream",
     "text": [
      "running batch 100/500\n",
      "running batch 200/500\n",
      "running batch 300/500\n",
      "running batch 400/500\n",
      "running batch 500/500\n",
      "running batch 100/500\n",
      "running batch 200/500\n",
      "running batch 300/500\n",
      "running batch 400/500\n",
      "running batch 500/500\n",
      "running batch 100/500\n",
      "running batch 200/500\n",
      "running batch 300/500\n",
      "running batch 400/500\n",
      "running batch 500/500\n",
      "running batch 100/500\n",
      "running batch 200/500\n",
      "running batch 300/500\n",
      "running batch 400/500\n",
      "running batch 500/500\n",
      "running batch 100/500\n",
      "running batch 200/500\n",
      "running batch 300/500\n",
      "running batch 400/500\n",
      "running batch 500/500\n",
      "running batch 100/500\n",
      "running batch 200/500\n",
      "running batch 300/500\n",
      "running batch 400/500\n",
      "running batch 500/500\n",
      "running batch 100/500\n",
      "running batch 200/500\n",
      "running batch 300/500\n",
      "running batch 400/500\n",
      "running batch 500/500\n",
      "running batch 100/500\n",
      "running batch 200/500\n",
      "running batch 300/500\n",
      "running batch 400/500\n",
      "running batch 500/500\n",
      "running batch 100/500\n",
      "running batch 200/500\n",
      "running batch 300/500\n",
      "running batch 400/500\n",
      "running batch 500/500\n",
      "running batch 100/500\n",
      "running batch 200/500\n",
      "running batch 300/500\n",
      "running batch 400/500\n",
      "running batch 500/500\n",
      "running batch 100/500\n",
      "running batch 200/500\n",
      "running batch 300/500\n",
      "running batch 400/500\n",
      "running batch 500/500\n",
      "running batch 100/500\n",
      "running batch 200/500\n",
      "running batch 300/500\n",
      "running batch 400/500\n",
      "running batch 500/500\n",
      "running batch 100/500\n",
      "running batch 200/500\n",
      "running batch 300/500\n",
      "running batch 400/500\n",
      "running batch 500/500\n",
      "running batch 100/500\n",
      "running batch 200/500\n",
      "running batch 300/500\n",
      "running batch 400/500\n",
      "running batch 500/500\n",
      "running batch 100/500\n",
      "running batch 200/500\n",
      "running batch 300/500\n",
      "running batch 400/500\n",
      "running batch 500/500\n"
     ]
    }
   ],
   "source": [
    "# from tqdm.notebook import tqdm\n",
    "learn_rate=10**-0.6\n",
    "# learn_rate=1\n",
    "epoch_num=15\n",
    "for epoch_ in range(epoch_num):\n",
    "    for i in range(train_num//batch_size):\n",
    "        if i%100==99:\n",
    "            print('running batch {}/{}'.format(i+1,train_num//batch_size))\n",
    "        grad_tmp=train_batch(i,parameters)\n",
    "        parameters=combine_parameters(parameters,grad_tmp,learn_rate)\n",
    "    current_epoch+=1\n",
    "    train_loss_list.append(train_loss(parameters))\n",
    "    train_accu_list.append(train_accuracy(parameters))\n",
    "    valid_loss_list.append(valid_loss(parameters))\n",
    "    valid_accu_list.append(valid_accuracy(parameters))"
   ]
  },
  {
   "cell_type": "code",
   "execution_count": 37,
   "metadata": {},
   "outputs": [
    {
     "data": {
      "text/plain": [
       "0.9059"
      ]
     },
     "execution_count": 37,
     "metadata": {},
     "output_type": "execute_result"
    }
   ],
   "source": [
    "valid_accuracy(parameters)"
   ]
  },
  {
   "cell_type": "code",
   "execution_count": 53,
   "metadata": {},
   "outputs": [
    {
     "data": {
      "text/plain": [
       "[{'b': array([-2.76237932e-02, -1.79778075e-02,  2.55070160e-02, -5.22008726e-02,\n",
       "         -6.71540332e-03, -1.10427145e-02, -4.86762960e-02,  5.99290394e-03,\n",
       "          1.51612001e-02, -4.18191286e-02, -3.91163230e-02, -2.03504836e-02,\n",
       "          7.17766967e-02, -1.78821323e-02, -2.16092807e-02, -3.28430137e-02,\n",
       "         -7.63118756e-03,  7.72874722e-03,  8.21135092e-03, -7.71014253e-02,\n",
       "          5.79488262e-02,  5.22644544e-02,  4.29396109e-02,  2.21123214e-03,\n",
       "          1.08631243e-01,  5.27835660e-02,  6.08502551e-02,  8.48960325e-02,\n",
       "         -1.77527925e-02,  4.79391434e-02, -7.42050947e-02, -4.46295249e-02,\n",
       "          4.01541774e-02,  2.25738669e-02,  2.42827869e-03, -3.03544386e-02,\n",
       "          7.12157272e-03, -1.38378570e-02,  6.23991790e-02, -4.93243612e-02,\n",
       "         -7.74088679e-03, -4.94290698e-02, -1.89945475e-02, -1.50120573e-02,\n",
       "         -5.66331398e-02, -4.19074959e-02,  6.06223201e-02, -9.99513852e-02,\n",
       "         -4.89657325e-02, -2.58901804e-03,  2.39392138e-02,  3.07800227e-02,\n",
       "          1.20388615e-01,  6.87129316e-02, -5.74791369e-02, -3.44768154e-02,\n",
       "         -1.16928040e-02, -7.47471389e-02,  7.97063846e-02, -6.59851666e-03,\n",
       "         -5.03620697e-03,  4.22256964e-03,  8.11084482e-03,  1.03065158e-02,\n",
       "          1.92985794e-02,  3.75718696e-02, -1.12656893e-01,  4.64339322e-02,\n",
       "          2.52354946e-02,  2.54159133e-01,  4.97358303e-02,  3.17494860e-03,\n",
       "         -8.44535504e-02,  9.34572596e-02,  1.47544982e-01, -3.86461391e-02,\n",
       "         -5.07245429e-02,  4.00833327e-02, -9.52414388e-03,  5.80236233e-02,\n",
       "          4.58105060e-02,  6.22177486e-02,  5.95631309e-02,  4.02396061e-02,\n",
       "          8.99705101e-03, -5.06672284e-02, -1.50658302e-02,  2.60989529e-02,\n",
       "         -4.82510517e-02,  5.06462034e-02,  8.88403398e-03,  6.22311054e-02,\n",
       "          1.31433629e-01, -1.08445278e-02, -8.63928500e-02, -1.63470274e-01,\n",
       "          1.19696932e-01,  6.33596361e-02,  9.65835607e-02,  2.76039714e-01,\n",
       "          1.42808040e-01,  2.83548358e-01,  7.43351676e-03, -3.97713355e-02,\n",
       "         -2.99389033e-02,  8.26004806e-03, -1.18790228e-01, -7.78585743e-03,\n",
       "         -1.24386463e-02, -3.68348713e-02, -5.47691963e-02,  2.71312647e-02,\n",
       "          1.19866446e-03,  5.15052846e-03, -1.79157201e-02, -5.24645822e-02,\n",
       "         -5.17004422e-04,  9.45428865e-02,  5.52911601e-02,  1.12167018e-02,\n",
       "          3.65631226e-01, -2.50915409e-01,  2.43488818e-01,  4.83860194e-01,\n",
       "          4.05008788e-03, -3.18638068e-01,  2.34369822e-01, -6.24597565e-02,\n",
       "          3.26980845e-01,  1.30346310e-01,  1.83092146e-01,  3.12339536e-01,\n",
       "          1.23690165e-01, -1.07267383e-01,  2.89406758e-03,  1.14525389e-01,\n",
       "         -3.76101864e-02,  3.45077545e-03, -1.52891463e-02,  5.34563147e-02,\n",
       "         -2.94059580e-02, -2.84541652e-02,  5.13006307e-03,  1.42874549e-02,\n",
       "          5.34292748e-04, -1.01348921e-02,  9.62040207e-02,  3.01290605e-01,\n",
       "         -6.41300425e-02,  5.34290793e-02,  1.62140365e-01,  1.80555536e-01,\n",
       "          3.03880434e-01,  4.67134794e-01, -1.78093556e-01,  7.59081978e-01,\n",
       "         -1.18662678e-01,  3.90505873e-01,  5.51023847e-02,  1.81686791e-01,\n",
       "          3.23651832e-01, -4.58232426e-02,  1.45444205e-01, -3.85877711e-02,\n",
       "         -3.70861159e-02, -2.15955242e-02, -2.94783720e-03,  3.83974389e-02,\n",
       "          6.27901646e-03, -8.85762377e-03, -3.70047198e-02, -2.17995129e-02,\n",
       "         -1.04001135e-01,  1.09169211e-01,  4.90584911e-01, -3.78059790e-02,\n",
       "          4.89015344e-01, -6.15286783e-02,  2.52672660e-01,  3.30470436e-01,\n",
       "          1.82088291e-01, -5.83968062e-02,  1.83369069e-01,  8.30524436e-02,\n",
       "         -1.50163282e-01,  5.89783645e-01,  4.26615403e-01,  7.65933304e-01,\n",
       "          2.23888622e-01,  5.41647501e-01,  1.05551432e-01,  2.48688726e-01,\n",
       "          1.23028985e-01,  2.82392518e-01,  3.26221330e-02, -8.81385097e-03,\n",
       "          3.13863403e-02, -9.71946789e-04,  2.89133512e-02,  1.48829962e-04,\n",
       "          2.14501964e-01,  1.35657469e-01,  3.84631915e-02,  2.60330356e-03,\n",
       "          5.73011812e-01, -1.42245707e-01, -1.26767930e-01,  3.96857092e-01,\n",
       "         -3.52599282e-02,  4.49992748e-01, -1.70532724e-01,  3.47675371e-01,\n",
       "          4.25061119e-02,  2.32853650e-01,  1.04484956e-01,  3.25737268e-01,\n",
       "          8.35270184e-02, -1.83732779e-01, -7.91895348e-02, -2.74388303e-01,\n",
       "          3.88777438e-01, -1.64214777e-01, -5.25073112e-03, -2.11097709e-02,\n",
       "          1.11865865e-02, -2.62452549e-02, -7.36069105e-02,  6.25929523e-02,\n",
       "          1.03913101e-01, -7.43097728e-02,  2.96153992e-01, -1.63075337e-01,\n",
       "          2.87557052e-01,  1.05012084e-01,  1.21812819e-01,  8.44716751e-02,\n",
       "          1.24515825e-01,  2.36615041e-01,  6.34009099e-02,  4.90735816e-01,\n",
       "          3.18661212e-01, -7.51539355e-02, -2.85758856e-01, -2.17900796e-01,\n",
       "          9.42440205e-01,  1.75394279e-01, -1.07443172e-01, -3.52984615e-01,\n",
       "         -1.69663152e-01,  4.47475659e-01,  2.35691682e-02, -2.55781285e-02,\n",
       "          3.46125987e-02,  1.14652905e-02,  9.05187663e-04,  1.18493339e-01,\n",
       "          4.35111874e-01,  1.72234717e-02,  9.64168013e-02,  2.12915125e-01,\n",
       "          1.05654224e-01,  6.96715970e-01, -3.67075429e-03, -1.17782591e-01,\n",
       "         -1.26870775e-01,  2.66041504e-02, -2.53544467e-01, -1.32331262e-03,\n",
       "         -4.04591891e-01, -2.41705036e-01,  1.33765101e-01,  2.38146475e-01,\n",
       "          5.32307363e-02,  1.21792080e-01,  6.74757556e-01, -1.14891541e-01,\n",
       "         -2.66345932e-01,  1.25304663e-01, -2.38820049e-02,  4.65067406e-02,\n",
       "         -6.15063712e-02, -4.68927462e-02,  3.79242781e-02,  4.34448540e-02,\n",
       "          2.12942024e-01, -9.93542952e-03,  3.95228754e-01,  3.09779982e-02,\n",
       "          5.40686038e-01,  9.60395472e-01,  3.84161306e-01,  8.27192705e-01,\n",
       "         -2.02330647e-01,  7.59710206e-02, -3.58470480e-01, -3.94333441e-01,\n",
       "         -3.66805374e-01, -5.71842519e-02,  7.80756613e-02,  1.34772552e-01,\n",
       "          1.25574988e-01, -1.44731639e-01,  2.32617759e-01,  1.18610521e-01,\n",
       "         -1.07714831e-01, -1.65869200e-01,  1.95040926e-02,  1.07970085e-02,\n",
       "          1.27167667e-02,  2.27965915e-02,  2.88052312e-02, -9.06367388e-02,\n",
       "         -9.96788849e-02,  2.59932364e-01, -4.26442225e-01,  6.99119042e-01,\n",
       "         -4.64260295e-01, -4.67386687e-02, -2.93328628e-01, -2.25093908e-03,\n",
       "         -2.07969067e-01, -2.84568134e-01, -3.92805896e-01, -2.49167180e-01,\n",
       "          3.36208672e-01,  1.79988603e-01, -1.23593574e-01,  1.49071200e-01,\n",
       "          2.68167807e-01, -1.69814445e-02,  4.75174923e-01, -3.39835905e-01,\n",
       "         -3.37986771e-02, -5.22035357e-02,  3.75868689e-02, -6.37269245e-03,\n",
       "         -3.29176350e-02,  3.65646068e-03,  1.93721671e-02, -7.01608455e-03,\n",
       "          8.05884885e-02,  1.52408855e-01, -2.39029109e-01,  2.83808701e-01,\n",
       "         -4.64987585e-01,  5.33465929e-02, -6.45709530e-02, -3.12425747e-02,\n",
       "         -2.52881694e-01, -3.86153276e-01,  1.17788089e-01, -4.19417374e-01,\n",
       "          5.54975776e-01, -1.98971712e-01,  2.66638688e-01,  1.81083286e-01,\n",
       "         -4.27619579e-01, -1.36877723e-01, -3.60845589e-01,  1.51081268e-01,\n",
       "          1.03290563e-01,  1.11206114e-01,  8.87909811e-03,  9.53899446e-03,\n",
       "          6.56864685e-02, -8.98621071e-03, -7.06037002e-02,  2.51596554e-02,\n",
       "          9.24320532e-02,  6.61531938e-02,  2.05725309e-03, -4.25830322e-01,\n",
       "          7.01178462e-01,  1.26420051e-01, -3.39800518e-01, -2.36265317e-01,\n",
       "          1.45575321e-01,  1.50715151e-01, -4.29966574e-01, -1.37918864e-01,\n",
       "          1.49420610e-01, -2.37299362e-01,  7.55090352e-02, -1.17212542e-01,\n",
       "          1.32690851e-01,  6.54929072e-03,  5.39613753e-03, -2.86227452e-01,\n",
       "          3.85806738e-01, -7.03934139e-02,  4.85631511e-02, -2.67200703e-03,\n",
       "         -6.72739502e-02,  1.81949934e-02, -7.76130733e-03,  1.97514576e-02,\n",
       "          1.02888066e-01,  1.04614632e-01,  1.07399447e-01,  4.23603674e-01,\n",
       "         -1.11650850e-01,  3.27721935e-01,  4.09220435e-01, -4.01377876e-01,\n",
       "         -3.35577311e-01, -2.02207863e-01, -1.32867300e-01,  1.83968355e-02,\n",
       "         -3.58415524e-01, -9.88682862e-02,  3.82004372e-01,  3.03476030e-01,\n",
       "          2.62586374e-01, -7.89913830e-02,  2.19386960e-01, -1.57573405e-01,\n",
       "          7.97997735e-02, -5.74400181e-02, -2.57957069e-02,  6.40791125e-02,\n",
       "          2.40662481e-02,  1.45743276e-02,  3.52855013e-03,  8.14645628e-03,\n",
       "          6.50541913e-02, -1.83815620e-01,  6.27848055e-02, -1.76122606e-01,\n",
       "          7.92318575e-02, -2.94521672e-01, -1.73264834e-01,  1.65972763e-01,\n",
       "          7.89261456e-01, -3.28698003e-01,  8.21983579e-01,  3.11480780e-03,\n",
       "          3.97837097e-01, -2.10241671e-01, -1.42896926e-01,  2.33469360e-01,\n",
       "          1.18682269e-01,  8.49228924e-01, -2.06866271e-01,  6.81424466e-02,\n",
       "         -8.05003132e-02,  1.56775732e-01,  3.49445036e-02,  6.47222586e-02,\n",
       "          6.50738533e-03, -6.37027981e-02,  5.87964049e-02, -9.76778810e-02,\n",
       "          8.02575880e-02,  2.88973415e-01, -9.46042119e-02, -3.16042454e-01,\n",
       "          3.61780911e-02,  3.03270586e-02, -2.24731957e-01,  2.20988293e-01,\n",
       "         -3.04286184e-02,  6.00185743e-02, -3.92705189e-01,  2.24526858e-02,\n",
       "          1.56891011e-01, -4.04913279e-01, -1.07492559e-01,  6.17138702e-01,\n",
       "          8.69276834e-02, -2.87467434e-02, -2.16081091e-01,  1.76432028e-01,\n",
       "          9.33051410e-02,  3.08126069e-02, -4.78344377e-02,  9.48664368e-03,\n",
       "          2.77203607e-02, -5.47887599e-02, -8.74181053e-03,  6.70339485e-02,\n",
       "         -6.12692601e-02,  4.28566175e-02, -7.18495612e-03, -1.35971533e-01,\n",
       "         -3.28476240e-01,  1.03441312e-01,  2.80995658e-01, -4.60326790e-02,\n",
       "         -2.90153895e-02, -1.78346157e-01, -6.78033371e-02, -4.00818841e-01,\n",
       "          1.70741802e-01,  3.19461874e-01,  1.70752536e-01,  4.44475310e-01,\n",
       "          3.21274685e-01,  1.81978123e-01, -2.89597856e-01,  2.68341919e-01,\n",
       "          8.68908512e-03,  1.84357556e-01,  3.30035105e-02,  2.45011985e-02,\n",
       "          1.30499902e-02,  9.05677023e-02,  3.48085574e-02,  1.35812207e-01,\n",
       "         -1.25359900e-01, -4.17872180e-01,  1.56216610e-01,  3.58009656e-02,\n",
       "          1.93684223e-01, -2.79199365e-01, -3.32487043e-01,  3.90830181e-01,\n",
       "         -2.20336732e-01, -2.04591405e-01,  6.03057568e-01,  4.55718477e-01,\n",
       "         -8.94303859e-02,  3.85563807e-01, -2.16305539e-01,  1.61660422e-01,\n",
       "          9.57979287e-02,  6.90815278e-01, -1.05726989e-01, -5.47751065e-02,\n",
       "          1.00692429e-01, -1.02990259e-01,  1.63796821e-03, -4.26544785e-02,\n",
       "         -4.73928738e-02, -3.72134462e-02,  4.30358794e-02, -5.45676995e-02,\n",
       "          4.34467525e-01,  1.37763683e-01,  2.29911888e-01,  1.69825717e-01,\n",
       "         -3.33148755e-01,  2.79039994e-01, -1.41331289e-01, -1.94929090e-01,\n",
       "          4.63291869e-01,  2.10779832e-01,  7.30816431e-01,  3.87191592e-01,\n",
       "          3.11476267e-01,  5.28706760e-01,  4.47080738e-01,  1.63432801e-01,\n",
       "         -1.29151992e-01,  4.79775755e-01,  5.07758960e-01, -1.82962622e-01,\n",
       "          4.32908266e-02, -7.12512183e-02, -2.68224227e-02, -4.35153471e-03,\n",
       "          5.06222211e-03,  8.14225705e-03, -8.29271356e-02,  8.33971923e-02,\n",
       "         -1.00239041e-02,  1.79102664e-01,  3.44971085e-03,  1.22273404e-01,\n",
       "         -2.97672021e-01,  1.64879392e-01, -7.84532834e-02, -2.95808186e-01,\n",
       "         -4.42079891e-01, -1.36433304e-01,  5.40555060e-01,  8.44338949e-02,\n",
       "          4.83016317e-02,  1.76299205e-01, -1.37067891e-01, -1.27710855e-01,\n",
       "          2.28288322e-01, -2.39473509e-01,  1.14103188e-01, -9.58373577e-02,\n",
       "          1.40809302e-01, -6.86915490e-02, -1.56046951e-02, -7.59705955e-02,\n",
       "         -9.49028060e-03,  2.87688570e-03, -3.00700772e-02,  1.05195250e-01,\n",
       "          3.77179868e-03, -9.83793951e-02, -2.30986620e-01,  3.05248180e-01,\n",
       "         -7.48742667e-02,  2.29810172e-03,  1.79853202e-01, -4.45312139e-02,\n",
       "          2.85368312e-01, -4.60672862e-02,  9.47157123e-01,  2.92970997e-01,\n",
       "          4.08452363e-01,  7.97566003e-01,  3.86608477e-01,  2.35322800e-01,\n",
       "          1.46864597e-02,  1.00887487e-01, -1.21093242e-01, -2.07673915e-01,\n",
       "          1.31710450e-01,  6.38325071e-02,  4.75717510e-02, -1.58245732e-02,\n",
       "          5.41276394e-02,  2.74550923e-02,  6.86219143e-04,  1.31010225e-02,\n",
       "          9.80351274e-02,  7.04511787e-02,  1.38198179e-02,  1.28861830e-02,\n",
       "         -6.52123625e-02,  1.66466724e-01,  6.01392825e-01, -2.20076361e-01,\n",
       "          3.04728179e-01,  7.67069111e-01,  2.50019934e-01,  2.98003642e-01,\n",
       "          6.66664042e-01,  4.13972653e-01,  4.35433813e-01, -1.79690374e-01,\n",
       "          1.23022083e-01,  2.67324722e-01,  1.20454811e-01,  2.41729210e-01,\n",
       "          1.81634971e-02,  6.51874676e-02,  3.47056723e-02, -2.28294739e-02,\n",
       "         -2.57904916e-02,  1.07341700e-02, -4.13887834e-02, -8.31248638e-02,\n",
       "         -1.83669739e-02,  8.74326372e-02, -5.89574984e-02, -1.14863070e-02,\n",
       "          2.77938476e-01, -1.05647503e-01,  8.95173801e-01, -9.70486273e-02,\n",
       "          6.93119861e-01,  6.18855545e-01, -8.33598993e-02,  5.07060609e-01,\n",
       "         -1.05798859e-01,  9.62507409e-02,  4.53109454e-02,  2.05444400e-01,\n",
       "         -1.66649645e-01,  2.31897652e-01, -1.39297770e-01, -2.84390467e-02,\n",
       "          1.96808462e-04,  4.00037654e-02,  6.78026598e-02,  2.84252594e-02,\n",
       "          1.49250685e-02, -8.82841514e-02,  5.19003974e-04,  2.26739602e-02,\n",
       "          1.21868277e-01,  1.50265817e-01,  9.84134329e-02,  7.08182840e-02,\n",
       "          2.91537275e-01,  3.46897135e-01, -3.22115997e-01,  1.71721864e-01,\n",
       "          3.06974345e-01, -3.17424017e-01,  4.08076192e-01,  5.10925843e-01,\n",
       "          5.96253768e-01,  8.03112256e-01,  2.08484908e-01,  6.92962190e-02,\n",
       "         -1.14114974e-01, -4.79705071e-02,  5.41485037e-02,  7.88712891e-02,\n",
       "          6.24967871e-02, -6.55472841e-02,  6.43557717e-02,  1.03610879e-02,\n",
       "          7.94429373e-02,  3.13558027e-02, -3.75987067e-02, -3.97652378e-03,\n",
       "          1.35081603e-02, -6.84385792e-02,  8.61035751e-02, -8.23418204e-02,\n",
       "          2.16041460e-01, -1.37231132e-01,  3.26266132e-01,  8.43337512e-01,\n",
       "         -6.93668247e-02, -1.25972150e-01,  3.34145606e-01,  1.99591253e-01,\n",
       "         -1.11587272e-01,  3.02675927e-01, -6.50837113e-02,  1.49426052e-01,\n",
       "          4.79750135e-02,  1.04535182e-01,  2.52468573e-02,  4.22305647e-02,\n",
       "         -3.73571464e-02, -7.91406482e-02,  9.80047913e-03, -3.10770335e-02,\n",
       "         -8.25220948e-02,  4.94851505e-02, -5.97474876e-02,  4.84851258e-02,\n",
       "         -2.65712516e-02,  5.36432530e-05,  4.76715558e-02, -4.53678380e-03,\n",
       "          2.14791921e-01,  1.16363450e-01,  1.70871187e-01, -4.58756678e-02,\n",
       "          9.26588442e-02, -8.22013085e-02,  1.42599683e-01,  6.24254490e-02,\n",
       "         -1.32557610e-01,  3.34347202e-01,  1.10971877e-01, -2.91679201e-03,\n",
       "          3.22575138e-02,  4.56542447e-02, -2.45531972e-02, -3.91903836e-02,\n",
       "          1.71204680e-02, -2.33928662e-03,  3.50260857e-02, -1.05460457e-02,\n",
       "          4.86880524e-02,  3.92080233e-02, -7.62569068e-03,  4.45816237e-02,\n",
       "          3.84619644e-02, -6.40868744e-02, -3.39414048e-02, -3.99680467e-02,\n",
       "         -3.57042192e-02,  4.54988291e-02, -2.76434079e-02,  2.95067340e-03,\n",
       "          3.54227490e-02,  5.12208679e-02,  4.42059490e-02, -2.52478452e-02,\n",
       "         -2.42507512e-02,  8.07757510e-02,  4.45661338e-02,  3.01793284e-02,\n",
       "          2.23096218e-03, -2.02570072e-02,  6.62819330e-02,  1.28380352e-03,\n",
       "          3.10412545e-03, -1.44201719e-02, -2.40512881e-02, -9.68944216e-03])},\n",
       " {'b': array([-0.01937005,  0.00039465,  0.00471976, -0.01444587,  0.02175239,\n",
       "          0.02351815,  0.03933439, -0.01415654, -0.0429087 ,  0.00116183]),\n",
       "  'w': array([[ 0.80450043, -0.11826689,  0.47137817, ..., -0.91816455,\n",
       "          -0.72195906, -0.23179823],\n",
       "         [ 0.22635392,  0.6110696 , -0.02948291, ...,  0.43938431,\n",
       "          -0.62057203,  0.17130636],\n",
       "         [ 0.87277628,  0.43867675, -0.39709185, ..., -0.0129346 ,\n",
       "          -0.48765256,  0.39351492],\n",
       "         ...,\n",
       "         [ 0.96573989,  0.98318837,  0.33385885, ..., -0.55268444,\n",
       "           0.91468523, -0.04699872],\n",
       "         [-0.01485398,  0.43081624,  0.37734652, ...,  0.72954876,\n",
       "           0.89267612,  0.27797453],\n",
       "         [-0.63634506, -0.72845354,  0.41141792, ..., -0.50125685,\n",
       "           0.2493828 ,  0.19677537]])}]"
      ]
     },
     "execution_count": 53,
     "metadata": {},
     "output_type": "execute_result"
    }
   ],
   "source": [
    "parameters"
   ]
  },
  {
   "cell_type": "code",
   "execution_count": 38,
   "metadata": {},
   "outputs": [
    {
     "data": {
      "image/png": "[encoded data removed]",
      "text/plain": [
       "<Figure size 432x288 with 1 Axes>"
      ]
     },
     "metadata": {
      "needs_background": "light"
     },
     "output_type": "display_data"
    }
   ],
   "source": [
    "#可视化acc\n",
    "\"\"\"\n",
    "初始化参数方式：随机初始化\n",
    "learn_rate=1\n",
    "epoch_num=15\n",
    "\n",
    "\"\"\"\n",
    "plt.plot(valid_accu_list, c='g', label='validation acc')\n",
    "plt.plot(train_accu_list, c='b', label='train acc')\n",
    "plt.legend()\n",
    "plt.savefig('acc_act=tanh.png')"
   ]
  },
  {
   "cell_type": "code",
   "execution_count": 43,
   "metadata": {},
   "outputs": [
    {
     "data": {
      "image/png": "[encoded data removed]",
      "text/plain": [
       "<Figure size 432x288 with 1 Axes>"
      ]
     },
     "metadata": {
      "needs_background": "light"
     },
     "output_type": "display_data"
    }
   ],
   "source": [
    "#可视化loss\n",
    "\"\"\"\n",
    "初始化参数方式：随机初始化\n",
    "learn_rate=1\n",
    "epoch_num=15\n",
    "\n",
    "\"\"\"\n",
    "plt.plot(valid_loss_list, c='g', label='validation loss')\n",
    "plt.plot(train_loss_list, c='b', label='train loss')\n",
    "plt.legend()\n",
    "plt.savefig('train_loss')"
   ]
  },
  {
   "cell_type": "code",
   "execution_count": 41,
   "metadata": {},
   "outputs": [
    {
     "name": "stdout",
     "output_type": "stream",
     "text": [
      "label : 5\n",
      "predict:5\n"
     ]
    },
    {
     "data": {
      "image/png": "[encoded data removed]",
      "text/plain": [
       "<Figure size 432x288 with 1 Axes>"
      ]
     },
     "metadata": {
      "needs_background": "light"
     },
     "output_type": "display_data"
    }
   ],
   "source": [
    "test_index = np.random.randint(1000)\n",
    "show_test(test_index)\n",
    "predict_result = predict(test_img[test_index], parameters)\n",
    "print(\"predict:{}\".format(predict_result.argmax()))"
   ]
  },
  {
   "cell_type": "code",
   "execution_count": 33,
   "metadata": {},
   "outputs": [
    {
     "data": {
      "text/plain": [
       "[1426.4051646285063,\n",
       " 1298.2394072709278,\n",
       " 1236.657140455704,\n",
       " 1198.6413557678056,\n",
       " 1172.289350937169]"
      ]
     },
     "execution_count": 33,
     "metadata": {},
     "output_type": "execute_result"
    }
   ],
   "source": [
    "train_loss_list"
   ]
  },
  {
   "cell_type": "markdown",
   "metadata": {},
   "source": [
    "## 定义模型保存和读取"
   ]
  },
  {
   "cell_type": "code",
   "execution_count": 93,
   "metadata": {},
   "outputs": [],
   "source": [
    "#保存参数以便部署\n",
    "import pickle\n",
    "model_prameters_name = 'Mnist_model.pkl'\n",
    "f = open(model_prameters_name, 'wb')\n",
    "pickle.dump(parameters, f)\n",
    "f.close()"
   ]
  },
  {
   "cell_type": "code",
   "execution_count": 95,
   "metadata": {},
   "outputs": [
    {
     "name": "stdout",
     "output_type": "stream",
     "text": [
      "[{'b': array([ 1.86475420e-02, -2.08663133e-02, -1.04650078e-02, -4.12160803e-02,\n",
      "        8.05465802e-03, -2.05834842e-02,  6.78438364e-03, -2.01531202e-02,\n",
      "        2.40703711e-02, -3.06741277e-02,  8.22373293e-03, -3.43462734e-02,\n",
      "       -2.61669791e-02,  8.30122059e-03, -4.32336558e-02,  1.82508263e-02,\n",
      "        2.10729913e-02,  4.48215364e-03, -3.43179818e-02,  7.72463786e-03,\n",
      "        2.58805606e-02,  9.76930048e-03,  1.45574990e-02, -3.04954519e-02,\n",
      "        1.08129279e-02, -2.84416560e-02, -5.02200499e-02, -9.90889223e-04,\n",
      "        3.37309197e-03, -1.16260883e-02, -3.23858807e-02,  1.04011001e-04,\n",
      "       -2.98533062e-02, -1.06661316e-02,  1.49738957e-02,  1.72425717e-02,\n",
      "       -4.17418143e-02,  2.40686670e-02,  2.09069400e-02,  7.96627764e-03,\n",
      "       -3.29541738e-03, -1.58551901e-02, -1.59886351e-02,  1.36288509e-02,\n",
      "       -1.58178084e-02,  5.20143734e-03,  1.23580932e-03,  9.95540438e-03,\n",
      "        1.70101183e-02,  8.48983761e-03,  2.16062157e-02,  1.97360738e-02,\n",
      "        2.45300535e-02, -2.29687013e-02,  2.06394130e-02,  7.86824381e-03,\n",
      "        1.00823350e-02,  3.42796728e-03, -2.26140626e-02,  3.39351747e-02,\n",
      "        1.78388672e-02,  2.08166246e-03, -1.73128172e-02, -1.06434224e-03,\n",
      "       -1.69634398e-03, -1.83299311e-02,  1.20616013e-02, -2.24788349e-02,\n",
      "       -7.91273932e-03, -8.25629223e-03, -2.65660577e-02,  3.05227791e-02,\n",
      "        4.77405213e-02, -1.66652284e-03, -8.29219632e-04,  5.63099284e-03,\n",
      "       -1.96523029e-03,  1.04373282e-02, -1.58871788e-02,  9.10847876e-03,\n",
      "        1.77696787e-02,  1.52959720e-02, -5.71343944e-02,  8.41138070e-03,\n",
      "       -1.44963942e-02, -2.33365326e-02,  2.23938032e-02,  1.59170925e-02,\n",
      "       -2.11966194e-02, -7.93232519e-03, -8.71160389e-03, -2.07220476e-02,\n",
      "        3.82631220e-02,  1.58146505e-03, -2.81305332e-02, -1.02320717e-02,\n",
      "        1.19040081e-02, -4.05967365e-02, -1.85740579e-02, -2.52607795e-02,\n",
      "       -2.50841056e-02, -2.42557515e-02,  2.15899695e-02, -3.53914945e-02,\n",
      "       -2.06737468e-02,  5.82471254e-03,  1.13338436e-02, -1.42877693e-02,\n",
      "        1.58318311e-02,  3.24354932e-02,  2.49635125e-02, -2.52380442e-03,\n",
      "       -2.19025679e-02,  4.92216642e-03,  3.08046755e-02, -3.20574449e-02,\n",
      "        5.71442461e-03,  6.39027037e-03, -6.15045015e-03, -3.71566865e-02,\n",
      "        7.78794239e-03, -2.75278146e-02, -4.47098730e-02, -8.07527434e-02,\n",
      "       -8.72847940e-02, -4.50752346e-02, -3.58108434e-02, -5.43436985e-02,\n",
      "       -3.04036977e-02, -9.75587939e-03, -3.24157527e-02,  5.23200243e-03,\n",
      "       -6.22594002e-02, -5.84558738e-03, -2.31311901e-02,  2.60991636e-02,\n",
      "       -6.38362993e-03, -1.18752604e-02, -1.85589831e-02,  8.12833166e-03,\n",
      "        3.92145398e-02, -1.12891158e-03,  3.05580098e-02, -3.57819863e-03,\n",
      "       -2.07192020e-02, -5.95288194e-02, -3.29139914e-02, -3.37110726e-02,\n",
      "       -2.25347973e-02, -7.55792062e-02, -2.52275230e-02, -4.95131053e-02,\n",
      "       -7.76217320e-02, -9.61747426e-02, -1.15118574e-01, -1.75858158e-01,\n",
      "       -1.46756169e-01, -9.84945063e-02, -7.53781680e-02, -1.29148110e-02,\n",
      "       -2.26950027e-02,  9.21541875e-03, -1.75373800e-02, -1.61844544e-02,\n",
      "        2.15362044e-02,  3.20752937e-02,  1.55152388e-02,  1.80167810e-02,\n",
      "       -1.13436493e-02,  1.19189588e-02, -3.99873283e-02, -4.33665618e-02,\n",
      "       -2.03677993e-02, -1.47199188e-02, -7.52479717e-02, -3.28497988e-02,\n",
      "       -5.77448566e-02, -7.14372797e-02, -4.95090936e-02, -6.48675150e-02,\n",
      "       -8.96479330e-02, -9.08454488e-02, -1.08689573e-01, -1.07080400e-01,\n",
      "       -9.72804428e-02, -5.66802646e-02, -1.94844740e-02, -1.60942690e-02,\n",
      "        6.88925887e-03,  1.37671298e-02, -3.45524076e-02, -3.32129794e-02,\n",
      "        2.21748479e-03,  4.23259007e-02,  4.92617087e-02,  1.44284309e-02,\n",
      "       -1.69704335e-02, -3.78436870e-03,  1.85239774e-02, -2.41012185e-02,\n",
      "       -4.85706247e-02, -4.61754617e-02, -5.27518513e-02,  3.63737939e-04,\n",
      "       -3.92497053e-02, -8.97318741e-03, -5.52174788e-02, -6.96964232e-02,\n",
      "       -8.45290474e-02, -7.74437436e-02, -9.41759304e-02, -7.96732472e-02,\n",
      "       -1.20052332e-01, -7.98030994e-02, -1.07111418e-01, -3.94053573e-02,\n",
      "       -2.39663573e-02, -1.33668939e-02, -9.87089384e-03, -4.63088054e-02,\n",
      "       -1.59009198e-02, -1.05971622e-02, -6.59316448e-03, -3.05911446e-02,\n",
      "        1.72174441e-02,  1.40202764e-02, -2.19098473e-02, -1.29254195e-02,\n",
      "       -4.31442664e-02, -4.39190908e-02, -4.03344800e-02, -2.84980441e-02,\n",
      "       -2.74333318e-02, -2.56699369e-02, -4.64352054e-02, -2.65474794e-02,\n",
      "       -5.27632867e-02,  1.64365361e-02, -1.10632055e-01, -1.40944134e-01,\n",
      "       -7.94592345e-02, -6.84130939e-02, -1.27681939e-01, -1.10771914e-01,\n",
      "       -9.30965384e-02, -3.61620361e-02, -5.29597576e-02, -4.94218957e-02,\n",
      "       -4.44015409e-02, -7.94053006e-03,  2.41291525e-02,  2.11184017e-02,\n",
      "       -2.69119894e-03,  2.19307045e-02,  1.13794726e-02,  3.38877545e-02,\n",
      "       -5.59924658e-03, -2.92547270e-02,  2.60988207e-02, -1.58780302e-02,\n",
      "       -9.95934788e-03,  8.42255501e-03, -2.92683775e-02, -6.29057638e-02,\n",
      "       -3.04034439e-02,  1.75319758e-02, -1.58893772e-01, -1.49956059e-01,\n",
      "       -1.85273574e-01, -1.64652782e-01, -1.37606862e-01, -1.03951084e-01,\n",
      "       -7.26631569e-02, -7.98399899e-02, -9.18543220e-02, -7.16840059e-02,\n",
      "       -6.07017024e-02, -1.54776509e-02, -2.61540596e-02, -3.14038779e-02,\n",
      "       -2.78882385e-02,  2.27505838e-02, -2.73576516e-02, -4.58749746e-03,\n",
      "        2.26112737e-02, -1.84119879e-02,  1.22413984e-03, -5.16855696e-02,\n",
      "       -5.59503467e-02, -8.79130623e-02, -8.77115422e-02, -1.12102955e-01,\n",
      "       -8.50976697e-02, -8.80718250e-02, -2.07865141e-01, -1.99854416e-01,\n",
      "       -2.14623945e-01, -1.61964180e-01, -1.61649699e-01, -1.71324722e-01,\n",
      "       -1.31206939e-01, -2.65532344e-02, -6.74971757e-02, -4.13167441e-02,\n",
      "       -3.62079928e-02, -1.89694567e-03, -1.44913685e-02, -1.75220260e-02,\n",
      "       -1.56666766e-02, -2.94469126e-02,  2.64964435e-02, -1.58979035e-02,\n",
      "       -6.67133647e-03,  4.48025757e-03, -7.06189113e-02, -8.12975858e-02,\n",
      "       -1.44721810e-01, -7.59269320e-02, -1.10427975e-01, -4.73565320e-02,\n",
      "       -8.73652764e-02, -1.28722071e-01, -2.18205471e-01, -2.00507868e-01,\n",
      "       -1.59673354e-01, -1.39692246e-01, -1.32050429e-01, -1.04769378e-01,\n",
      "       -1.77843991e-01, -1.37308908e-01, -1.58144785e-01, -9.00540229e-02,\n",
      "       -4.84897137e-03, -1.60488297e-02, -9.34037952e-03,  4.39514560e-02,\n",
      "       -4.43799403e-02, -6.81889265e-03,  9.72815357e-03, -2.19485984e-02,\n",
      "        3.22129279e-02, -1.45368438e-02, -1.44819419e-01, -1.08502048e-01,\n",
      "       -1.05653738e-01, -1.19594014e-01, -8.30188579e-02, -1.89522336e-01,\n",
      "       -1.18580971e-01, -1.80702911e-01, -2.63626761e-01, -2.08684633e-01,\n",
      "       -1.76807366e-01, -1.56292540e-01, -1.11396525e-01, -1.31787635e-01,\n",
      "       -6.84783053e-02, -1.39861530e-01, -1.51371743e-01, -1.05478978e-01,\n",
      "       -1.94922942e-02, -9.56331156e-03, -3.08981509e-03, -2.01756671e-02,\n",
      "        1.00924190e-02,  8.16425321e-04, -1.34908397e-02,  1.87834275e-03,\n",
      "        1.06810071e-02, -3.58884439e-02, -1.01091261e-01, -1.36956093e-01,\n",
      "       -9.74799075e-02, -9.68374034e-02, -1.33975435e-01, -1.77124524e-01,\n",
      "       -1.71056655e-01, -2.22906552e-01, -2.10856733e-01, -1.85480340e-01,\n",
      "       -1.39545976e-01, -1.40894830e-01, -5.29792110e-02, -7.38625655e-02,\n",
      "       -7.20741424e-02, -2.70102361e-02, -1.20989963e-01, -1.25770934e-01,\n",
      "        6.76428184e-03,  2.57632811e-02, -4.09803172e-02, -9.19935748e-03,\n",
      "        2.34625578e-02, -4.87164983e-03, -4.80819531e-03,  1.47200825e-02,\n",
      "        9.85091342e-03, -6.04422857e-02, -9.21302363e-02, -6.41856622e-02,\n",
      "       -9.06017591e-02, -9.77381776e-02, -1.49662762e-01, -1.39795745e-01,\n",
      "       -1.41809627e-01, -1.80681628e-01, -1.62257098e-01, -1.05145756e-01,\n",
      "       -1.20217615e-01, -1.36429703e-01, -6.79529600e-02, -3.52101763e-02,\n",
      "       -2.01338395e-02, -5.35354759e-02, -3.96217652e-02, -9.04455227e-02,\n",
      "       -4.18250462e-02, -8.91284501e-03, -1.06640378e-02, -3.00886874e-02,\n",
      "        5.38404018e-03,  1.14097159e-02,  1.49079882e-02,  9.56657972e-03,\n",
      "        5.96749279e-03, -1.96666585e-02, -5.77688621e-02, -1.12314052e-01,\n",
      "       -1.01873324e-01, -1.06310356e-01, -1.19767215e-01, -8.59380527e-02,\n",
      "       -8.78989165e-02, -1.66372660e-01, -1.66103660e-01, -1.14243313e-01,\n",
      "       -1.45477862e-01, -1.37843616e-01, -6.95781559e-02, -1.02356798e-01,\n",
      "       -6.39946974e-02, -6.20760605e-02, -6.54569801e-02, -8.58357078e-02,\n",
      "       -6.57673559e-03, -1.68358799e-02, -2.62382453e-03,  2.02601938e-03,\n",
      "        8.85013377e-03,  2.30132584e-02, -6.65718615e-03, -5.12214134e-03,\n",
      "       -6.67636247e-03, -5.36380627e-02, -4.04179431e-02, -6.38568798e-02,\n",
      "       -1.61799442e-01, -1.22437702e-01, -9.14024388e-02, -5.96412189e-02,\n",
      "       -4.81607556e-02, -1.37856522e-01, -1.73708029e-01, -1.44368449e-01,\n",
      "       -1.03959796e-01, -1.00876063e-01, -7.75262100e-02, -4.85930059e-02,\n",
      "       -5.57985642e-02, -9.45479757e-02, -5.90746324e-02, -6.22806773e-02,\n",
      "        7.17541362e-03, -1.46893700e-02, -3.45808710e-03,  2.15310071e-02,\n",
      "        1.58441317e-03,  1.84241003e-02, -1.88983216e-02,  2.46009524e-02,\n",
      "       -2.43453764e-02, -7.30721638e-02, -5.76626321e-02, -8.73661343e-02,\n",
      "       -1.75191452e-01, -2.12974550e-01, -1.84953821e-01, -1.53578619e-01,\n",
      "       -1.56097765e-01, -1.93338256e-01, -1.69715027e-01, -1.18862016e-01,\n",
      "       -4.40375539e-02, -5.71161479e-02, -6.36329511e-03, -3.54142439e-02,\n",
      "       -5.01917819e-02, -4.46407634e-02, -3.41096715e-02, -2.46471258e-02,\n",
      "       -1.44464723e-02, -1.79157487e-02, -3.06584443e-03,  1.76823351e-03,\n",
      "       -1.91045791e-03, -1.39612851e-02, -3.79501231e-03, -3.27237450e-02,\n",
      "       -1.48841550e-02, -8.89615121e-02, -9.27942632e-02, -1.01727444e-01,\n",
      "       -1.42220909e-01, -1.11249942e-01, -2.01027517e-01, -1.35693606e-01,\n",
      "       -2.11853304e-01, -1.38852493e-01, -7.61415820e-02, -1.63361181e-02,\n",
      "       -4.38351293e-03, -3.26010237e-02, -6.39960366e-02, -5.33054742e-02,\n",
      "       -3.16623467e-02, -6.23860561e-02, -1.26367619e-02, -1.88272479e-02,\n",
      "       -3.78030594e-02, -2.13378726e-02,  9.93192116e-03,  1.52129165e-03,\n",
      "       -3.28360147e-02,  1.11832936e-02,  2.92428383e-02, -1.19721761e-02,\n",
      "       -2.25868288e-02, -6.44150673e-02, -8.90885776e-02, -1.08536808e-01,\n",
      "       -8.64929742e-02, -1.19473789e-01, -1.61289028e-01, -7.42672925e-02,\n",
      "       -1.35350320e-01, -6.53316057e-02, -3.95029974e-02, -6.04443441e-04,\n",
      "       -6.16187816e-02, -4.98268060e-02, -8.19195496e-02, -2.89690447e-02,\n",
      "       -6.51177729e-03, -3.46578285e-02, -5.73832699e-03, -1.55617363e-02,\n",
      "       -4.43191411e-02,  4.36995244e-03, -1.49456394e-02,  1.57358415e-02,\n",
      "        2.84703027e-02,  4.37851266e-04,  4.32325088e-03,  4.74156527e-02,\n",
      "       -2.67560800e-02, -6.23145822e-02, -7.35117900e-02, -4.12555848e-02,\n",
      "       -1.04010232e-01, -9.73649455e-02, -1.35266056e-01, -1.05008247e-01,\n",
      "       -9.18113116e-02, -5.35888050e-02, -3.09258875e-02, -2.23472851e-02,\n",
      "       -6.26786249e-02, -2.16772949e-02, -1.95340441e-02, -2.75181584e-02,\n",
      "        8.11789929e-03, -2.52236598e-02, -5.08061184e-02,  5.17551544e-03,\n",
      "        8.04962914e-03, -1.23563271e-02,  1.07249045e-02, -2.45914743e-02,\n",
      "       -1.17639440e-02, -2.74164873e-02, -1.78457258e-02,  1.60107693e-03,\n",
      "       -4.31836708e-02, -4.34970006e-02, -1.88549258e-02, -5.28857006e-02,\n",
      "       -6.68918007e-02, -5.48211797e-02, -9.36911336e-02, -8.41625808e-02,\n",
      "       -5.48469534e-02, -9.31702592e-02, -5.31946964e-02, -6.87589452e-02,\n",
      "       -5.50443011e-02, -5.53256527e-02, -3.28716174e-02, -1.00308255e-01,\n",
      "       -8.60909886e-03, -1.25321108e-02, -1.41343718e-02, -6.88471617e-03,\n",
      "       -4.51544422e-03, -3.54078720e-03, -9.35093108e-04, -3.26893441e-02,\n",
      "        5.97134768e-03,  2.33682489e-02, -2.43128934e-02, -2.67460296e-02,\n",
      "        1.24506695e-02, -2.41729951e-02, -5.92899775e-02, -1.21057680e-01,\n",
      "       -7.37702735e-02, -7.23088864e-02, -7.06003737e-02, -1.67860101e-02,\n",
      "       -6.95939496e-02, -5.60280585e-02, -4.03940751e-02, -6.11237510e-02,\n",
      "       -2.55046959e-02, -4.34764331e-02, -8.17251836e-02, -4.88589881e-02,\n",
      "        2.69520377e-03,  3.52781800e-03,  2.65229941e-02,  1.01550491e-02,\n",
      "       -1.65545410e-02,  3.36624533e-02, -3.67894889e-02,  3.72601356e-03,\n",
      "        7.03818494e-03,  3.69476209e-03,  1.60290730e-02, -1.37964259e-02,\n",
      "       -8.78887271e-03, -3.92346082e-02, -2.92822224e-02, -7.16829702e-02,\n",
      "       -5.04572348e-02, -5.85991573e-03, -8.18479104e-02, -6.87751123e-02,\n",
      "       -5.70597895e-02, -7.57776098e-02, -5.01848750e-02, -8.29118972e-02,\n",
      "       -8.64934126e-02, -2.53117114e-02, -3.08124197e-02, -1.59524096e-02,\n",
      "        6.42480567e-03, -1.69954261e-02,  2.88699254e-02,  1.87469146e-02,\n",
      "        1.22260292e-02,  4.59706355e-02, -2.02074751e-03, -3.93934906e-02,\n",
      "        2.80407391e-02, -3.60326938e-02, -1.92407929e-02,  3.13850961e-03,\n",
      "        1.95291972e-02,  4.22233944e-03, -3.44731897e-02, -2.61610161e-02,\n",
      "       -3.84670543e-02, -4.86203944e-02, -2.10950537e-03, -4.11573507e-02,\n",
      "       -7.52346908e-02, -7.67307559e-02, -1.59615871e-02, -3.23659385e-02,\n",
      "       -7.20052299e-02, -4.04568791e-03, -3.05107780e-03, -6.89929457e-03,\n",
      "        3.57860094e-04, -1.83612406e-02, -5.19953829e-03,  2.31049632e-04,\n",
      "       -1.03518094e-02,  1.26250894e-02, -3.11720742e-02,  1.65284915e-02,\n",
      "       -6.40499901e-03, -3.95400591e-03,  6.56198183e-03, -4.17387062e-03,\n",
      "       -1.71645628e-04, -4.62265490e-02,  8.87766511e-03, -1.47933159e-02,\n",
      "       -3.51349706e-02, -3.90938045e-02, -4.20271640e-02, -5.86558660e-02,\n",
      "       -4.05740840e-02, -4.40981551e-02, -1.61394807e-02, -3.82819712e-02,\n",
      "       -1.55006600e-03, -2.69136538e-02, -4.12716421e-02, -6.22252080e-03,\n",
      "       -7.38278113e-03,  8.37070521e-03,  2.68410920e-02,  2.91108359e-03,\n",
      "       -4.67878076e-03,  6.70666743e-03, -5.53420455e-03, -3.77601826e-02,\n",
      "        1.24049305e-04,  1.66202993e-02, -6.29705736e-03, -6.54893670e-03,\n",
      "        3.03476718e-02,  2.46944711e-02, -2.05152740e-02,  2.62986584e-02,\n",
      "       -1.04089433e-02,  2.44961746e-02,  2.10736175e-02, -2.73806147e-03,\n",
      "       -8.24720909e-03, -9.27335354e-03, -1.90384062e-02, -3.13711712e-03,\n",
      "        8.44803236e-03,  1.15793125e-02, -2.67048944e-03,  1.38125786e-02,\n",
      "       -4.57665684e-02,  2.40531960e-02,  1.31590070e-02,  2.96040116e-02,\n",
      "       -1.86307993e-02, -1.94546573e-02, -6.30431802e-03,  2.03152498e-02,\n",
      "        1.89579684e-02, -1.35848255e-04, -6.65728105e-04, -4.66582321e-02,\n",
      "       -3.38149456e-02, -1.25400235e-02, -3.02373671e-02, -2.70123324e-02,\n",
      "        1.60552175e-02, -1.69245045e-02,  2.56952246e-03, -3.82768447e-02,\n",
      "       -3.72797554e-03, -3.63914859e-02,  1.90455281e-03,  8.18486749e-03,\n",
      "       -1.70627662e-02, -2.97543320e-02, -1.91609205e-02,  1.26734440e-02,\n",
      "       -1.25698006e-02, -1.02506026e-02,  3.75560290e-03,  3.57139553e-02,\n",
      "       -1.68916731e-02, -2.34877457e-02, -3.66219835e-02, -7.08123451e-03])}, {'b': array([-0.16884701,  0.11982124, -0.0214816 , -0.1057972 ,  0.04847812,\n",
      "        0.25117681,  0.0061726 ,  0.06991392, -0.19120348, -0.0082334 ]), 'w': array([[ 0.05772429,  0.02198976, -0.02741981, ..., -0.02171335,\n",
      "        -0.00552483,  0.07519232],\n",
      "       [ 0.06225741, -0.07548976, -0.05577262, ...,  0.02123593,\n",
      "        -0.01271876, -0.05764109],\n",
      "       [ 0.06098373,  0.0016513 ,  0.03542044, ..., -0.07749696,\n",
      "         0.05603196,  0.06315669],\n",
      "       ...,\n",
      "       [ 0.07740122,  0.03070592,  0.06840983, ...,  0.05278813,\n",
      "        -0.04663808,  0.06470182],\n",
      "       [-0.02822856, -0.07262634, -0.0656495 , ..., -0.02308255,\n",
      "         0.05735009,  0.04218291],\n",
      "       [-0.0776272 ,  0.04075043,  0.04546952, ..., -0.00513351,\n",
      "         0.03570341, -0.01816352]])}]\n"
     ]
    },
    {
     "data": {
      "text/plain": [
       "<function BufferedReader.close>"
      ]
     },
     "execution_count": 95,
     "metadata": {},
     "output_type": "execute_result"
    }
   ],
   "source": [
    "f = open(model_prameters_name, 'rb')\n",
    "param = pickle.load(f)\n",
    "print(param)\n",
    "f.close"
   ]
  },
  {
   "cell_type": "code",
   "execution_count": 17,
   "metadata": {},
   "outputs": [
    {
     "data": {
      "image/png": "[encoded data removed]",
      "text/plain": [
       "<Figure size 432x288 with 1 Axes>"
      ]
     },
     "metadata": {
      "needs_background": "light"
     },
     "output_type": "display_data"
    }
   ],
   "source": [
    "# tanh图像\n",
    "import matplotlib.pyplot as plt\n",
    "import numpy as np \n",
    "\n",
    "#函数\n",
    "g=lambda z:(np.exp(z)-np.exp(-z))/(np.exp(z)+np.exp(-z))\n",
    "\n",
    "start=-10 \n",
    "stop=10 \n",
    "step=0.01\n",
    "num=int((stop-start)/step)\n",
    "x = np.linspace(start=start,stop=stop,num=num)\n",
    "y = g(x)\n",
    "\n",
    "fig=plt.figure(1)\n",
    "plt.plot(x, y,label='tanh')\n",
    "plt.grid(True)#显示网格\n",
    "\n",
    "plt.legend()#显示旁注\n",
    "plt.show(fig)"
   ]
  },
  {
   "cell_type": "markdown",
   "metadata": {},
   "source": [
    "## 调参技巧"
   ]
  },
  {
   "cell_type": "markdown",
   "metadata": {},
   "source": [
    "### 初始化参数时技巧"
   ]
  },
  {
   "cell_type": "markdown",
   "metadata": {},
   "source": [
    "$w_1 = \\begin{bmatrix}-\\sqrt{\\frac{6}{784+10}},\\sqrt{\\frac{6}{784+10}}\\end{bmatrix}$\n",
    "\n",
    "![](md_img/softmaxparameters.png)\n",
    "\n",
    "* 为什么要这样初始化参数  \n",
    "这是一种神经网络Xavier随机初始化\n",
    "[Understanding the difficulty of training deep feedforward neural networks](http://proceedings.mlr.press/v9/glorot10a/glorot10a.pdf)\n",
    "\n",
    "推导所得的结果就是使该层中权重参数的每个元素都随机采样于均匀分布："
   ]
  },
  {
   "cell_type": "code",
   "execution_count": 48,
   "metadata": {},
   "outputs": [
    {
     "data": {
      "image/png": "[encoded data removed]",
      "text/plain": [
       "<Figure size 432x288 with 1 Axes>"
      ]
     },
     "metadata": {
      "needs_background": "light"
     },
     "output_type": "display_data"
    }
   ],
   "source": [
    "#可视化acc\n",
    "\"\"\"\n",
    "初始化参数方式：Xavier初始化参数\n",
    "learn_rate=1\n",
    "epoch_num=15\n",
    "\n",
    "\"\"\"\n",
    "plt.plot(valid_accu_list, c='g', label='validation acc')\n",
    "plt.plot(train_accu_list, c='b', label='train acc')\n",
    "plt.legend()\n",
    "plt.savefig('acc_act=tanh.png')"
   ]
  },
  {
   "cell_type": "code",
   "execution_count": 49,
   "metadata": {},
   "outputs": [
    {
     "data": {
      "image/png": "[encoded data removed]",
      "text/plain": [
       "<Figure size 432x288 with 1 Axes>"
      ]
     },
     "metadata": {
      "needs_background": "light"
     },
     "output_type": "display_data"
    }
   ],
   "source": [
    "#可视化loss\n",
    "\"\"\"\n",
    "初始化参数方式：Xavier初始化参数\n",
    "learn_rate=1\n",
    "epoch_num=15\n",
    "\n",
    "\"\"\"\n",
    "plt.plot(valid_loss_list, c='g', label='validation acc')\n",
    "plt.plot(train_loss_list, c='b', label='train acc')\n",
    "plt.legend()\n",
    "plt.savefig('acc_act=tanh.png')"
   ]
  },
  {
   "cell_type": "markdown",
   "metadata": {},
   "source": [
    "### 可供调节的超参数\n",
    "learn_rate  \n",
    "epoch_num"
   ]
  },
  {
   "cell_type": "code",
   "execution_count": 30,
   "metadata": {},
   "outputs": [
    {
     "data": {
      "image/png": "[encoded data removed]",
      "text/plain": [
       "<Figure size 432x288 with 1 Axes>"
      ]
     },
     "metadata": {
      "needs_background": "light"
     },
     "output_type": "display_data"
    }
   ],
   "source": [
    "#可视化acc\n",
    "\"\"\"\n",
    "初始化参数方式：随机初始化\n",
    "learn_rate=10**-0.6\n",
    "epoch_num=15\n",
    "\n",
    "\"\"\"\n",
    "plt.plot(valid_accu_list, c='g', label='validation acc')\n",
    "plt.plot(train_accu_list, c='b', label='train acc')\n",
    "plt.legend()\n",
    "plt.savefig('acc_act=tanh.png')"
   ]
  },
  {
   "cell_type": "code",
   "execution_count": 32,
   "metadata": {},
   "outputs": [
    {
     "data": {
      "image/png": "[encoded data removed]",
      "text/plain": [
       "<Figure size 432x288 with 1 Axes>"
      ]
     },
     "metadata": {
      "needs_background": "light"
     },
     "output_type": "display_data"
    }
   ],
   "source": [
    "#可视化loss\n",
    "\"\"\"\n",
    "初始化参数方式：随机初始化\n",
    "learn_rate=10**-0.6\n",
    "epoch_num=15\n",
    "\n",
    "\"\"\"\n",
    "plt.plot(valid_loss_list, c='g', label='validation acc')\n",
    "plt.plot(train_loss_list, c='b', label='train acc')\n",
    "plt.legend()\n",
    "plt.savefig('acc_act=tanh.png')"
   ]
  },
  {
   "cell_type": "code",
   "execution_count": null,
   "metadata": {},
   "outputs": [],
   "source": []
  }
 ],
 "metadata": {
  "kernelspec": {
   "display_name": "Python 3",
   "language": "python",
   "name": "python3"
  },
  "language_info": {
   "codemirror_mode": {
    "name": "ipython",
    "version": 3
   },
   "file_extension": ".py",
   "mimetype": "text/x-python",
   "name": "python",
   "nbconvert_exporter": "python",
   "pygments_lexer": "ipython3",
   "version": "3.7.0"
  }
 },
 "nbformat": 4,
 "nbformat_minor": 4
}
