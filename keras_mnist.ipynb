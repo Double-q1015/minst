{
 "cells": [
  {
   "cell_type": "code",
   "execution_count": 1,
   "metadata": {},
   "outputs": [],
   "source": [
    "import numpy as np\n",
    "import keras\n",
    "import pandas as pd\n",
    "from keras import layers\n",
    "from matplotlib import pyplot as plt\n",
    "from keras.datasets import mnist as mn\n",
    "\n",
    "%matplotlib inline"
   ]
  },
  {
   "cell_type": "code",
   "execution_count": 3,
   "metadata": {},
   "outputs": [],
   "source": [
    "# 读取训练数据和测试数据\n",
    "(train_img, train_lab), (test_img, test_lab) = mn.load_data()"
   ]
  },
  {
   "cell_type": "code",
   "execution_count": 4,
   "metadata": {},
   "outputs": [
    {
     "data": {
      "text/plain": [
       "((60000, 28, 28), (60000,), (10000, 28, 28), (10000,))"
      ]
     },
     "execution_count": 4,
     "metadata": {},
     "output_type": "execute_result"
    }
   ],
   "source": [
    "train_img.shape, train_lab.shape, test_img.shape, test_lab.shape"
   ]
  },
  {
   "cell_type": "code",
   "execution_count": 5,
   "metadata": {},
   "outputs": [],
   "source": [
    "model = keras.Sequential()\n",
    "# Flatten层会把除了第一维(样本数)之外的,也就是后面的维度摊平成同一个维度里\n",
    "model.add(layers.Flatten()) # (60000, 28, 28) => (60000, 28*28)\n",
    "# 已经不是第一层了,所以不再需要input_dim了,会直接根据前面层的输出来设置\n",
    "model.add(layers.Dense(64, activation='tanh'))\n",
    "# Softmax多分类,因为一共10种数字,所以输出维度是10\n",
    "model.add(layers.Dense(10, activation='softmax'))"
   ]
  },
  {
   "cell_type": "code",
   "execution_count": 6,
   "metadata": {},
   "outputs": [],
   "source": [
    "model.compile(\n",
    "    optimizer=\"adam\",\n",
    "    loss='sparse_categorical_crossentropy',\n",
    "    metrics = ['accuracy']\n",
    ")\n"
   ]
  },
  {
   "cell_type": "code",
   "execution_count": 7,
   "metadata": {},
   "outputs": [
    {
     "name": "stdout",
     "output_type": "stream",
     "text": [
      "Epoch 1/10\n",
      "120/120 - 1s - loss: 0.9766 - accuracy: 0.7015 - val_loss: 0.5432 - val_accuracy: 0.8463 - 828ms/epoch - 7ms/step\n",
      "Epoch 2/10\n",
      "120/120 - 0s - loss: 0.4689 - accuracy: 0.8627 - val_loss: 0.4037 - val_accuracy: 0.8841 - 384ms/epoch - 3ms/step\n",
      "Epoch 3/10\n",
      "120/120 - 0s - loss: 0.3800 - accuracy: 0.8891 - val_loss: 0.3492 - val_accuracy: 0.9023 - 314ms/epoch - 3ms/step\n",
      "Epoch 4/10\n",
      "120/120 - 0s - loss: 0.3430 - accuracy: 0.8982 - val_loss: 0.3239 - val_accuracy: 0.9071 - 300ms/epoch - 2ms/step\n",
      "Epoch 5/10\n",
      "120/120 - 0s - loss: 0.3244 - accuracy: 0.9046 - val_loss: 0.3168 - val_accuracy: 0.9058 - 407ms/epoch - 3ms/step\n",
      "Epoch 6/10\n",
      "120/120 - 1s - loss: 0.3107 - accuracy: 0.9078 - val_loss: 0.2940 - val_accuracy: 0.9135 - 511ms/epoch - 4ms/step\n",
      "Epoch 7/10\n",
      "120/120 - 0s - loss: 0.2930 - accuracy: 0.9120 - val_loss: 0.2884 - val_accuracy: 0.9129 - 405ms/epoch - 3ms/step\n",
      "Epoch 8/10\n",
      "120/120 - 0s - loss: 0.2871 - accuracy: 0.9156 - val_loss: 0.2880 - val_accuracy: 0.9152 - 420ms/epoch - 4ms/step\n",
      "Epoch 9/10\n",
      "120/120 - 0s - loss: 0.2720 - accuracy: 0.9196 - val_loss: 0.2635 - val_accuracy: 0.9219 - 376ms/epoch - 3ms/step\n",
      "Epoch 10/10\n",
      "120/120 - 0s - loss: 0.2663 - accuracy: 0.9203 - val_loss: 0.2671 - val_accuracy: 0.9199 - 398ms/epoch - 3ms/step\n"
     ]
    }
   ],
   "source": [
    "history = model.fit(train_img, train_lab, epochs=10, batch_size=500, validation_data=(test_img, test_lab), verbose=2) # 每批500张图片"
   ]
  },
  {
   "cell_type": "code",
   "execution_count": 8,
   "metadata": {},
   "outputs": [
    {
     "name": "stdout",
     "output_type": "stream",
     "text": [
      "313/313 [==============================] - 0s 829us/step - loss: 0.2671 - accuracy: 0.9199\n"
     ]
    },
    {
     "data": {
      "text/plain": [
       "[0.2671271860599518, 0.9199000000953674]"
      ]
     },
     "execution_count": 8,
     "metadata": {},
     "output_type": "execute_result"
    }
   ],
   "source": [
    "model.evaluate(test_img, test_lab)"
   ]
  },
  {
   "cell_type": "code",
   "execution_count": 9,
   "metadata": {},
   "outputs": [
    {
     "name": "stdout",
     "output_type": "stream",
     "text": [
      "Model: \"sequential\"\n",
      "_________________________________________________________________\n",
      " Layer (type)                Output Shape              Param #   \n",
      "=================================================================\n",
      " flatten (Flatten)           (None, 784)               0         \n",
      "                                                                 \n",
      " dense (Dense)               (None, 64)                50240     \n",
      "                                                                 \n",
      " dense_1 (Dense)             (None, 10)                650       \n",
      "                                                                 \n",
      "=================================================================\n",
      "Total params: 50,890\n",
      "Trainable params: 50,890\n",
      "Non-trainable params: 0\n",
      "_________________________________________________________________\n"
     ]
    }
   ],
   "source": [
    "model.summary()"
   ]
  },
  {
   "cell_type": "code",
   "execution_count": 11,
   "metadata": {},
   "outputs": [
    {
     "data": {
      "image/png": "[encoded data removed]",
      "text/plain": [
       "<Figure size 432x288 with 1 Axes>"
      ]
     },
     "metadata": {
      "needs_background": "light"
     },
     "output_type": "display_data"
    },
    {
     "data": {
      "text/plain": [
       "<Figure size 432x288 with 0 Axes>"
      ]
     },
     "metadata": {},
     "output_type": "display_data"
    }
   ],
   "source": [
    "plt.plot(history.history['val_accuracy'], c='g', label='validation acc')\n",
    "plt.plot(history.history['accuracy'], c='b', label='train acc')\n",
    "plt.legend()\n",
    "plt.show()\n",
    "plt.savefig('train_acc.png')"
   ]
  },
  {
   "cell_type": "code",
   "execution_count": 13,
   "metadata": {},
   "outputs": [
    {
     "data": {
      "image/png": "[encoded data removed]",
      "text/plain": [
       "<Figure size 432x288 with 1 Axes>"
      ]
     },
     "metadata": {
      "needs_background": "light"
     },
     "output_type": "display_data"
    }
   ],
   "source": [
    "plt.plot(history.history['val_loss'], c='g', label='validation loss')\n",
    "plt.plot(history.history['loss'], c='b', label='train loss')\n",
    "plt.legend()\n",
    "plt.savefig('train_loss.png')"
   ]
  },
  {
   "cell_type": "code",
   "execution_count": 13,
   "metadata": {},
   "outputs": [],
   "source": [
    "result = model.predict(test_img)\n",
    "def show_test(index):\n",
    "    plt.imshow(test_img[index],cmap='gray')\n",
    "    print(\"label : {}\".format(test_lab[index]))\n",
    "    print(\"predict : {}\".format(result[index].argmax()))"
   ]
  },
  {
   "cell_type": "code",
   "execution_count": 103,
   "metadata": {},
   "outputs": [
    {
     "name": "stdout",
     "output_type": "stream",
     "text": [
      "label : 5\n",
      "predict : 5\n"
     ]
    },
    {
     "data": {
      "image/png": "[encoded data removed]",
      "text/plain": [
       "<Figure size 432x288 with 1 Axes>"
      ]
     },
     "metadata": {
      "needs_background": "light"
     },
     "output_type": "display_data"
    }
   ],
   "source": [
    "index = np.random.randint(1, len(test_img))\n",
    "show_test(index)"
   ]
  }
 ],
 "metadata": {
  "kernelspec": {
   "display_name": "Python 3",
   "language": "python",
   "name": "python3"
  },
  "language_info": {
   "codemirror_mode": {
    "name": "ipython",
    "version": 3
   },
   "file_extension": ".py",
   "mimetype": "text/x-python",
   "name": "python",
   "nbconvert_exporter": "python",
   "pygments_lexer": "ipython3",
   "version": "3.7.0"
  }
 },
 "nbformat": 4,
 "nbformat_minor": 4
}
